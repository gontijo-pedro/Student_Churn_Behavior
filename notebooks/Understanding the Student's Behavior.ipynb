{
 "cells": [
  {
   "cell_type": "markdown",
   "id": "f7cbd913",
   "metadata": {
    "heading_collapsed": true
   },
   "source": [
    "# Libraries Imports"
   ]
  },
  {
   "cell_type": "code",
   "execution_count": 1,
   "id": "aee7a328",
   "metadata": {
    "hidden": true
   },
   "outputs": [],
   "source": [
    "import pandas as pd\n",
    "import datetime\n",
    "import matplotlib.pyplot as plt"
   ]
  },
  {
   "cell_type": "markdown",
   "id": "71b0d82e",
   "metadata": {
    "heading_collapsed": true
   },
   "source": [
    "# Importing the Dataset"
   ]
  },
  {
   "cell_type": "code",
   "execution_count": 2,
   "id": "6a91b981",
   "metadata": {
    "hidden": true
   },
   "outputs": [
    {
     "data": {
      "text/html": [
       "<div>\n",
       "<style scoped>\n",
       "    .dataframe tbody tr th:only-of-type {\n",
       "        vertical-align: middle;\n",
       "    }\n",
       "\n",
       "    .dataframe tbody tr th {\n",
       "        vertical-align: top;\n",
       "    }\n",
       "\n",
       "    .dataframe thead th {\n",
       "        text-align: right;\n",
       "    }\n",
       "</style>\n",
       "<table border=\"1\" class=\"dataframe\">\n",
       "  <thead>\n",
       "    <tr style=\"text-align: right;\">\n",
       "      <th></th>\n",
       "      <th>ID Aluno</th>\n",
       "      <th>Turma</th>\n",
       "      <th>Plano</th>\n",
       "      <th>Faixa</th>\n",
       "      <th>Redações</th>\n",
       "      <th>Vídeos</th>\n",
       "      <th>Questões</th>\n",
       "      <th>Data Matr.</th>\n",
       "      <th>Simulados</th>\n",
       "      <th>Tutor</th>\n",
       "      <th>Logins</th>\n",
       "      <th>Perfil</th>\n",
       "      <th>Data Cancel.</th>\n",
       "      <th>Data Nasc.</th>\n",
       "      <th>Acesso até</th>\n",
       "    </tr>\n",
       "  </thead>\n",
       "  <tbody>\n",
       "    <tr>\n",
       "      <th>0</th>\n",
       "      <td>95738</td>\n",
       "      <td>Medicina 2020</td>\n",
       "      <td>MONTHLY</td>\n",
       "      <td>Faixa Branca Grau III</td>\n",
       "      <td>0</td>\n",
       "      <td>1</td>\n",
       "      <td>0</td>\n",
       "      <td>04/04/2017 05:40:09</td>\n",
       "      <td>1</td>\n",
       "      <td>COM TUTOR</td>\n",
       "      <td>1</td>\n",
       "      <td>Exclusivo</td>\n",
       "      <td>NaN</td>\n",
       "      <td>NaN</td>\n",
       "      <td>18/03/2020 02:59:59</td>\n",
       "    </tr>\n",
       "    <tr>\n",
       "      <th>1</th>\n",
       "      <td>112701</td>\n",
       "      <td>Medicina 2020</td>\n",
       "      <td>MONTHLY</td>\n",
       "      <td>Faixa Preta Grau III</td>\n",
       "      <td>0</td>\n",
       "      <td>9</td>\n",
       "      <td>124</td>\n",
       "      <td>07/11/2017 14:06:36</td>\n",
       "      <td>1</td>\n",
       "      <td>COM TUTOR</td>\n",
       "      <td>4</td>\n",
       "      <td>Exclusivo</td>\n",
       "      <td>NaN</td>\n",
       "      <td>05/02/1984 00:00:00</td>\n",
       "      <td>31/12/2031 02:59:59</td>\n",
       "    </tr>\n",
       "    <tr>\n",
       "      <th>2</th>\n",
       "      <td>112702</td>\n",
       "      <td>Medicina 2020</td>\n",
       "      <td>MONTHLY</td>\n",
       "      <td>Faixa Verde Grau II</td>\n",
       "      <td>2</td>\n",
       "      <td>74</td>\n",
       "      <td>1359</td>\n",
       "      <td>07/11/2017 15:43:33</td>\n",
       "      <td>4</td>\n",
       "      <td>COM TUTOR</td>\n",
       "      <td>86</td>\n",
       "      <td>Exclusivo</td>\n",
       "      <td>NaN</td>\n",
       "      <td>19/07/1980 00:00:00</td>\n",
       "      <td>30/12/2029 15:00:00</td>\n",
       "    </tr>\n",
       "    <tr>\n",
       "      <th>3</th>\n",
       "      <td>120504</td>\n",
       "      <td>ITA e IME 2020</td>\n",
       "      <td>FULL</td>\n",
       "      <td>Faixa Branca Grau I</td>\n",
       "      <td>0</td>\n",
       "      <td>24</td>\n",
       "      <td>64</td>\n",
       "      <td>27/09/2019 00:00:00</td>\n",
       "      <td>4</td>\n",
       "      <td>COM TUTOR</td>\n",
       "      <td>5</td>\n",
       "      <td>Exclusivo</td>\n",
       "      <td>20/02/2020 02:59:59</td>\n",
       "      <td>07/04/2002 00:00:00</td>\n",
       "      <td>24/12/2020 15:00:00</td>\n",
       "    </tr>\n",
       "    <tr>\n",
       "      <th>4</th>\n",
       "      <td>120759</td>\n",
       "      <td>ITA e IME 2020</td>\n",
       "      <td>FULL</td>\n",
       "      <td>Faixa Verde Grau I</td>\n",
       "      <td>17</td>\n",
       "      <td>1166</td>\n",
       "      <td>1598</td>\n",
       "      <td>18/08/2019 00:00:00</td>\n",
       "      <td>2</td>\n",
       "      <td>COM TUTOR</td>\n",
       "      <td>237</td>\n",
       "      <td>Exclusivo</td>\n",
       "      <td>NaN</td>\n",
       "      <td>05/12/2001 00:00:00</td>\n",
       "      <td>22/02/2021 02:59:59</td>\n",
       "    </tr>\n",
       "  </tbody>\n",
       "</table>\n",
       "</div>"
      ],
      "text/plain": [
       "   ID Aluno           Turma    Plano                  Faixa  Redações  Vídeos  \\\n",
       "0     95738   Medicina 2020  MONTHLY  Faixa Branca Grau III         0       1   \n",
       "1    112701   Medicina 2020  MONTHLY   Faixa Preta Grau III         0       9   \n",
       "2    112702   Medicina 2020  MONTHLY    Faixa Verde Grau II         2      74   \n",
       "3    120504  ITA e IME 2020     FULL    Faixa Branca Grau I         0      24   \n",
       "4    120759  ITA e IME 2020     FULL     Faixa Verde Grau I        17    1166   \n",
       "\n",
       "   Questões           Data Matr.  Simulados      Tutor  Logins     Perfil  \\\n",
       "0         0  04/04/2017 05:40:09          1  COM TUTOR       1  Exclusivo   \n",
       "1       124  07/11/2017 14:06:36          1  COM TUTOR       4  Exclusivo   \n",
       "2      1359  07/11/2017 15:43:33          4  COM TUTOR      86  Exclusivo   \n",
       "3        64  27/09/2019 00:00:00          4  COM TUTOR       5  Exclusivo   \n",
       "4      1598  18/08/2019 00:00:00          2  COM TUTOR     237  Exclusivo   \n",
       "\n",
       "          Data Cancel.           Data Nasc.           Acesso até  \n",
       "0                  NaN                  NaN  18/03/2020 02:59:59  \n",
       "1                  NaN  05/02/1984 00:00:00  31/12/2031 02:59:59  \n",
       "2                  NaN  19/07/1980 00:00:00  30/12/2029 15:00:00  \n",
       "3  20/02/2020 02:59:59  07/04/2002 00:00:00  24/12/2020 15:00:00  \n",
       "4                  NaN  05/12/2001 00:00:00  22/02/2021 02:59:59  "
      ]
     },
     "execution_count": 2,
     "metadata": {},
     "output_type": "execute_result"
    }
   ],
   "source": [
    "raw_data = pd.read_csv('../raw_data/raw_data.csv')\n",
    "raw_data.head(5)"
   ]
  },
  {
   "cell_type": "code",
   "execution_count": 3,
   "id": "a92e1017",
   "metadata": {
    "hidden": true
   },
   "outputs": [
    {
     "name": "stdout",
     "output_type": "stream",
     "text": [
      "<class 'pandas.core.frame.DataFrame'>\n",
      "RangeIndex: 27498 entries, 0 to 27497\n",
      "Data columns (total 15 columns):\n",
      " #   Column        Non-Null Count  Dtype \n",
      "---  ------        --------------  ----- \n",
      " 0   ID Aluno      27498 non-null  int64 \n",
      " 1   Turma         27498 non-null  object\n",
      " 2   Plano         27498 non-null  object\n",
      " 3   Faixa         27498 non-null  object\n",
      " 4   Redações      27498 non-null  int64 \n",
      " 5   Vídeos        27498 non-null  int64 \n",
      " 6   Questões      27498 non-null  int64 \n",
      " 7   Data Matr.    27058 non-null  object\n",
      " 8   Simulados     27498 non-null  int64 \n",
      " 9   Tutor         27498 non-null  object\n",
      " 10  Logins        27498 non-null  int64 \n",
      " 11  Perfil        27498 non-null  object\n",
      " 12  Data Cancel.  4001 non-null   object\n",
      " 13  Data Nasc.    11315 non-null  object\n",
      " 14  Acesso até    27498 non-null  object\n",
      "dtypes: int64(6), object(9)\n",
      "memory usage: 3.1+ MB\n"
     ]
    }
   ],
   "source": [
    "df = raw_data.copy()\n",
    "df.info()"
   ]
  },
  {
   "cell_type": "markdown",
   "id": "f95f1d2b",
   "metadata": {
    "heading_collapsed": true
   },
   "source": [
    "# Student Profile"
   ]
  },
  {
   "cell_type": "code",
   "execution_count": 4,
   "id": "f3837045",
   "metadata": {
    "hidden": true
   },
   "outputs": [],
   "source": [
    "df3 = df.copy()"
   ]
  },
  {
   "cell_type": "markdown",
   "id": "42a05489",
   "metadata": {
    "heading_collapsed": true,
    "hidden": true
   },
   "source": [
    "## Turma"
   ]
  },
  {
   "cell_type": "code",
   "execution_count": 5,
   "id": "dacf2392",
   "metadata": {
    "hidden": true
   },
   "outputs": [],
   "source": [
    "df_turma = df3.copy()"
   ]
  },
  {
   "cell_type": "code",
   "execution_count": 6,
   "id": "14ae88b9",
   "metadata": {
    "hidden": true
   },
   "outputs": [
    {
     "data": {
      "text/plain": [
       "Medicina e Extensivo 2019             32.675104\n",
       "ITA e IME 2019                        18.466798\n",
       "Semiextensivo 18                      14.306495\n",
       "Extensivo Medicina 2021               10.269838\n",
       "Medicina 2020                          8.087861\n",
       "ITA e IME 2020                         5.291294\n",
       "Extensivo ITA/IME 2021                 4.156666\n",
       "Intensivo 2018                         1.898320\n",
       "Extensivo 18                           1.243727\n",
       "Semiextensivo Medicina 2019            1.196451\n",
       "Intensivo 2019                         1.130991\n",
       "SEMIEXTENSIVO - TURMA MED 2020         0.956433\n",
       "Intensivo ITA-IME 2021                 0.181831\n",
       "SEMIEXTENSIVO - TURMA ITA/IME 2020     0.138192\n",
       "Name: Turma, dtype: float64"
      ]
     },
     "execution_count": 6,
     "metadata": {},
     "output_type": "execute_result"
    }
   ],
   "source": [
    "#Checking the % of students by class/interest\n",
    "df_turma['Turma'].value_counts()/df.shape[0]*100"
   ]
  },
  {
   "cell_type": "markdown",
   "id": "707da911",
   "metadata": {
    "hidden": true
   },
   "source": [
    "More than **50%** of the students are enrolled on prep courses for **Medicina e Extensivo 2019** and **ITA e IME 2019**."
   ]
  },
  {
   "cell_type": "code",
   "execution_count": 7,
   "id": "3acf24a2",
   "metadata": {
    "hidden": true
   },
   "outputs": [],
   "source": [
    "df_turma['Data Matr.'] = pd.to_datetime(df_turma['Data Matr.'])"
   ]
  },
  {
   "cell_type": "code",
   "execution_count": 8,
   "id": "841b7610",
   "metadata": {
    "hidden": true
   },
   "outputs": [
    {
     "name": "stderr",
     "output_type": "stream",
     "text": [
      "/tmp/ipykernel_865/1975632869.py:4: SettingWithCopyWarning: \n",
      "A value is trying to be set on a copy of a slice from a DataFrame\n",
      "\n",
      "See the caveats in the documentation: https://pandas.pydata.org/pandas-docs/stable/user_guide/indexing.html#returning-a-view-versus-a-copy\n",
      "  df_turma['Year_Enrollment'][i] = df_turma['Data Matr.'][i].year\n"
     ]
    }
   ],
   "source": [
    "df_turma['Year_Enrollment'] = ''\n",
    "\n",
    "for i in range(0, df_turma.shape[0]):\n",
    "    df_turma['Year_Enrollment'][i] = df_turma['Data Matr.'][i].year"
   ]
  },
  {
   "cell_type": "code",
   "execution_count": 9,
   "id": "364728b7",
   "metadata": {
    "hidden": true
   },
   "outputs": [],
   "source": [
    "#Checking the values\n",
    "df_turma['Year_Enrollment'].unique() # >>> array(['2017', '2019', '2020', '2021', '2016', 'nan', '2018'], dtype=object)\n",
    "\n",
    "#Dropping null values\n",
    "df_turma = df_turma.dropna(subset=['Year_Enrollment'])\n",
    "\n",
    "#Changing the values to strings\n",
    "df_turma['Year_Enrollment'] = df_turma['Year_Enrollment'].astype(str)"
   ]
  },
  {
   "cell_type": "markdown",
   "id": "11a1316d",
   "metadata": {
    "heading_collapsed": true,
    "hidden": true
   },
   "source": [
    "### Medicina e Extensivo 2019"
   ]
  },
  {
   "cell_type": "code",
   "execution_count": 10,
   "id": "344db7eb",
   "metadata": {
    "hidden": true
   },
   "outputs": [],
   "source": [
    "df_med_ext_2019 = df_turma[df_turma['Turma'] == 'Medicina e Extensivo 2019']\n",
    "\n",
    "#Getting the years of enrollment\n",
    "years = sorted(df_med_ext_2019['Year_Enrollment'].unique()) # >>> ['2017', '2018', '2019']\n",
    "\n",
    "#Getting the number of years\n",
    "heights = [(df_med_ext_2019['Year_Enrollment'] == y).sum() for y in years] # >>> [8, 1453, 7508]"
   ]
  },
  {
   "cell_type": "code",
   "execution_count": 11,
   "id": "e15c0c79",
   "metadata": {
    "hidden": true,
    "scrolled": true
   },
   "outputs": [
    {
     "data": {
      "image/png": "[encoded data removed]",
      "text/plain": [
       "<Figure size 432x288 with 1 Axes>"
      ]
     },
     "metadata": {
      "needs_background": "light"
     },
     "output_type": "display_data"
    }
   ],
   "source": [
    "plt.bar(years, heights, width=1);\n",
    "plt.title('Enrollment Years - Medicina e Extensivo 2019');\n",
    "plt.ylabel('Number of Students');\n",
    "plt.xlabel('Year');"
   ]
  },
  {
   "cell_type": "markdown",
   "id": "2de04054",
   "metadata": {
    "heading_collapsed": true,
    "hidden": true
   },
   "source": [
    "### ITA e IME 2019"
   ]
  },
  {
   "cell_type": "code",
   "execution_count": 12,
   "id": "b9a1f879",
   "metadata": {
    "hidden": true
   },
   "outputs": [],
   "source": [
    "df_ita_ime_2019 = df_turma[df_turma['Turma'] == 'ITA e IME 2019']\n",
    "\n",
    "#Getting the years of enrollment\n",
    "years = sorted(df_ita_ime_2019['Year_Enrollment'].unique()) # >>> ['2017', '2018', '2019']\n",
    "\n",
    "#Getting the number of years\n",
    "heights = [(df_ita_ime_2019['Year_Enrollment'] == y).sum() for y in years] # >>> [8, 936, 4115]"
   ]
  },
  {
   "cell_type": "code",
   "execution_count": 13,
   "id": "9f544a99",
   "metadata": {
    "hidden": true
   },
   "outputs": [
    {
     "data": {
      "image/png": "[encoded data removed]",
      "text/plain": [
       "<Figure size 432x288 with 1 Axes>"
      ]
     },
     "metadata": {
      "needs_background": "light"
     },
     "output_type": "display_data"
    }
   ],
   "source": [
    "plt.bar(years, heights, width=1);\n",
    "plt.title('Enrollment Years - ITA e IME 2019');\n",
    "plt.ylabel('Number of Students');\n",
    "plt.xlabel('Year');"
   ]
  },
  {
   "cell_type": "markdown",
   "id": "9ce0eb78",
   "metadata": {
    "heading_collapsed": true,
    "hidden": true
   },
   "source": [
    "## Plano"
   ]
  },
  {
   "cell_type": "code",
   "execution_count": 14,
   "id": "a88d9762",
   "metadata": {
    "hidden": true
   },
   "outputs": [
    {
     "data": {
      "text/plain": [
       "FULL       92.584915\n",
       "MONTHLY     7.415085\n",
       "Name: Plano, dtype: float64"
      ]
     },
     "execution_count": 14,
     "metadata": {},
     "output_type": "execute_result"
    }
   ],
   "source": [
    "#Checking the % of students by payment plan\n",
    "df3['Plano'].value_counts()/df.shape[0]*100"
   ]
  },
  {
   "cell_type": "code",
   "execution_count": 15,
   "id": "c3066ff3",
   "metadata": {
    "hidden": true
   },
   "outputs": [],
   "source": [
    "#Getting the plan types\n",
    "plans = sorted(df3['Plano'].unique()) # >>> ['FULL', 'MONTHLY']\n",
    "\n",
    "#Getting the number of students per plan\n",
    "heights = [(df3['Plano'] == p).sum() for p in plans] # >>> [25459, 2039]"
   ]
  },
  {
   "cell_type": "code",
   "execution_count": 16,
   "id": "da0a9a20",
   "metadata": {
    "hidden": true
   },
   "outputs": [
    {
     "data": {
      "image/png": "[encoded data removed]",
      "text/plain": [
       "<Figure size 432x288 with 1 Axes>"
      ]
     },
     "metadata": {
      "needs_background": "light"
     },
     "output_type": "display_data"
    }
   ],
   "source": [
    "plt.bar(plans, heights, width=1);\n",
    "plt.title('Payment Plans');\n",
    "plt.ylabel('Number of Students');\n",
    "plt.xlabel('Plan Type');"
   ]
  },
  {
   "cell_type": "markdown",
   "id": "55a00260",
   "metadata": {
    "hidden": true
   },
   "source": [
    "More than 90% of the students have chosen the **Full** plan, which means: A)they are pretty sure of their choices, or; B)the payment conditions were more attractive."
   ]
  },
  {
   "cell_type": "markdown",
   "id": "8abfcae2",
   "metadata": {
    "heading_collapsed": true,
    "hidden": true
   },
   "source": [
    "## Faixa"
   ]
  },
  {
   "cell_type": "code",
   "execution_count": 17,
   "id": "c7735c82",
   "metadata": {
    "hidden": true
   },
   "outputs": [
    {
     "data": {
      "text/plain": [
       "Faixa Branca Grau I      78.907557\n",
       "Faixa Branca Grau IV      5.338570\n",
       "Faixa Verde Grau I        3.178413\n",
       "Faixa Branca Grau V       3.174776\n",
       "Faixa Verde Grau II       2.905666\n",
       "Faixa Verde Grau III      1.294640\n",
       "Faixa Branca Grau III     1.291003\n",
       "Faixa Azul Grau III       1.185541\n",
       "Faixa Azul Grau II        0.829151\n",
       "Faixa Preta Grau III      0.625500\n",
       "Faixa Lilás Grau I        0.290930\n",
       "Faixa Lilás Grau III      0.290930\n",
       "Faixa Azul Grau I         0.207288\n",
       "Faixa Branca Grau II      0.192741\n",
       "Faixa Preta Grau I        0.141828\n",
       "Faixa Preta Grau II       0.080006\n",
       "Faixa Lilás Grau II       0.065459\n",
       "Name: Faixa, dtype: float64"
      ]
     },
     "execution_count": 17,
     "metadata": {},
     "output_type": "execute_result"
    }
   ],
   "source": [
    "#Checking the % of students by belt\n",
    "df3['Faixa'].value_counts()/df.shape[0]*100"
   ]
  },
  {
   "cell_type": "markdown",
   "id": "c3ea1a3d",
   "metadata": {
    "hidden": true
   },
   "source": [
    "Almost 80% of the students are classified as **Faixa Branca Grau I**, which probably means an entry-level."
   ]
  },
  {
   "cell_type": "markdown",
   "id": "e1f4f725",
   "metadata": {
    "heading_collapsed": true,
    "hidden": true
   },
   "source": [
    "## Tutor"
   ]
  },
  {
   "cell_type": "code",
   "execution_count": 18,
   "id": "4806ff0f",
   "metadata": {
    "hidden": true
   },
   "outputs": [
    {
     "data": {
      "text/plain": [
       "SEM TUTOR    74.187214\n",
       "COM TUTOR    25.812786\n",
       "Name: Tutor, dtype: float64"
      ]
     },
     "execution_count": 18,
     "metadata": {},
     "output_type": "execute_result"
    }
   ],
   "source": [
    "#Checking the % of students by Tutor\n",
    "df3['Tutor'].value_counts()/df.shape[0]*100"
   ]
  },
  {
   "cell_type": "markdown",
   "id": "2cd6eecd",
   "metadata": {
    "hidden": true
   },
   "source": [
    "Almost 75% of the students have chosen a path **without a Tutor**."
   ]
  },
  {
   "cell_type": "markdown",
   "id": "cb3edde8",
   "metadata": {
    "heading_collapsed": true,
    "hidden": true
   },
   "source": [
    "## Perfil"
   ]
  },
  {
   "cell_type": "code",
   "execution_count": 19,
   "id": "55ec08d2",
   "metadata": {
    "hidden": true
   },
   "outputs": [
    {
     "data": {
      "text/plain": [
       "Exclusivo    90.152011\n",
       "Parcial       8.127864\n",
       "Consulta      1.720125\n",
       "Name: Perfil, dtype: float64"
      ]
     },
     "execution_count": 19,
     "metadata": {},
     "output_type": "execute_result"
    }
   ],
   "source": [
    "#Checking the % of students by Profile\n",
    "df3['Perfil'].value_counts()/df.shape[0]*100"
   ]
  },
  {
   "cell_type": "code",
   "execution_count": 20,
   "id": "f32b2111",
   "metadata": {
    "hidden": true
   },
   "outputs": [],
   "source": [
    "#Getting the profile types\n",
    "profile = sorted(df3['Perfil'].unique()) # >>> ['Consulta', 'Exclusivo', 'Parcial']\n",
    "\n",
    "#Getting the number of students per profile\n",
    "heights = [(df3['Perfil'] == p).sum() for p in profile] # >>> [473, 24790, 2235]"
   ]
  },
  {
   "cell_type": "code",
   "execution_count": 21,
   "id": "5942599b",
   "metadata": {
    "hidden": true
   },
   "outputs": [
    {
     "data": {
      "image/png": "[encoded data removed]",
      "text/plain": [
       "<Figure size 432x288 with 1 Axes>"
      ]
     },
     "metadata": {
      "needs_background": "light"
     },
     "output_type": "display_data"
    }
   ],
   "source": [
    "plt.bar(profile, heights, width=1);\n",
    "plt.title('Profile Types');\n",
    "plt.ylabel('Number of Students');\n",
    "plt.xlabel('Profile Type');"
   ]
  },
  {
   "cell_type": "markdown",
   "id": "54722825",
   "metadata": {
    "hidden": true
   },
   "source": [
    "More than 90% of the students have chosen the **Exclusive** plan. Probably it's related to the level of access they want to have."
   ]
  },
  {
   "cell_type": "markdown",
   "id": "1823cd18",
   "metadata": {
    "heading_collapsed": true,
    "hidden": true
   },
   "source": [
    "## Data de Nascimento"
   ]
  },
  {
   "cell_type": "code",
   "execution_count": 22,
   "id": "9174b98d",
   "metadata": {
    "hidden": true
   },
   "outputs": [
    {
     "data": {
      "text/plain": [
       "58.85155284020656"
      ]
     },
     "execution_count": 22,
     "metadata": {},
     "output_type": "execute_result"
    }
   ],
   "source": [
    "#Checking birth dates >>>> too much null values +58% >>>> not reliable >>>> 58.85155284020656\n",
    "df3['Data Nasc.'].isnull().sum()/df.shape[0]*100"
   ]
  },
  {
   "cell_type": "markdown",
   "id": "51e0ddaa",
   "metadata": {
    "hidden": true
   },
   "source": [
    "Since almost 60% of the birth dates are **null**, it doesn't seems a good feature to be used as a profile maker. "
   ]
  },
  {
   "cell_type": "markdown",
   "id": "f0bb3a6c",
   "metadata": {
    "heading_collapsed": true,
    "hidden": true
   },
   "source": [
    "## Conclusion"
   ]
  },
  {
   "cell_type": "markdown",
   "id": "c7e74447",
   "metadata": {
    "hidden": true
   },
   "source": [
    "**What's the general profile of the students?**"
   ]
  },
  {
   "cell_type": "markdown",
   "id": "ca971997",
   "metadata": {
    "hidden": true
   },
   "source": [
    "**IN SUMMARY**\n",
    "\n",
    "We could assume the standard student has a focus on highly competitive courses, which matches the school slogan!\n",
    "\n",
    "They mostly enroll on the course at the very year of the tests, however we do see a small amount of students who enroll a year or two before the tests.\n",
    "\n",
    "The preferred payment option is FULL, with EXCLUSIVE access to available materials and WITHOUT the support of a Tutor. Maybe the students don't see this extra feature as worthy due to its cost."
   ]
  },
  {
   "cell_type": "markdown",
   "id": "4e45e9ff",
   "metadata": {
    "heading_collapsed": true
   },
   "source": [
    "# Student Engagement"
   ]
  },
  {
   "cell_type": "code",
   "execution_count": 23,
   "id": "2bde968a",
   "metadata": {
    "hidden": true
   },
   "outputs": [],
   "source": [
    "df4 = df.copy()"
   ]
  },
  {
   "cell_type": "code",
   "execution_count": 24,
   "id": "f04f5595",
   "metadata": {
    "hidden": true
   },
   "outputs": [
    {
     "data": {
      "text/plain": [
       "67.41217543094044"
      ]
     },
     "execution_count": 24,
     "metadata": {},
     "output_type": "execute_result"
    }
   ],
   "source": [
    "#Checking the % of students who have done ZERO Simulados >>> 78.87482726016437\n",
    "df4['Simulados'].value_counts()[0]/df.shape[0]*100\n",
    "\n",
    "#Checking the % of students who have done ZERO Redações >>> 79.8094406865954\n",
    "df4['Redações'].value_counts()[0]/df.shape[0]*100\n",
    "\n",
    "#Checking the % of students who have watched ZERO Vídeos >>> 60.27347443450432\n",
    "df4['Vídeos'].value_counts()[0]/df.shape[0]*100\n",
    "\n",
    "#Checking the % of students who have done ZERO Questions >>> 55.63677358353335\n",
    "df4['Questões'].value_counts()[0]/df.shape[0]*100\n",
    "\n",
    "#Checking the % of students who have done ZERO Logins >>> 67.41217543094044\n",
    "df4['Logins'].value_counts()[0]/df.shape[0]*100"
   ]
  },
  {
   "cell_type": "code",
   "execution_count": 25,
   "id": "35f55827",
   "metadata": {
    "hidden": true
   },
   "outputs": [
    {
     "data": {
      "image/png": "[encoded data removed]",
      "text/plain": [
       "<Figure size 1584x216 with 5 Axes>"
      ]
     },
     "metadata": {
      "needs_background": "light"
     },
     "output_type": "display_data"
    }
   ],
   "source": [
    "plt.figure(figsize=(22, 3))\n",
    "plt.subplot(1, 5, 1)\n",
    "plt.hist(df4['Redações'], bins=30);\n",
    "plt.title('Redações');\n",
    "plt.xlabel('Amount performed');\n",
    "plt.ylabel('Number of Students');\n",
    "plt.subplot(1, 5, 2)\n",
    "plt.hist(df4['Vídeos'], bins=30);\n",
    "plt.title('Vídeos');\n",
    "plt.xlabel('Amount performed');\n",
    "plt.subplot(1, 5, 3)\n",
    "plt.hist(df4['Questões'], bins=30);\n",
    "plt.title('Questões');\n",
    "plt.xlabel('Amount performed');\n",
    "plt.subplot(1, 5, 4)\n",
    "plt.hist(df4['Simulados'], bins=30);\n",
    "plt.title('Simulados');\n",
    "plt.xlabel('Amount performed');\n",
    "plt.subplot(1, 5, 5)\n",
    "plt.hist(df4['Logins'], bins=30);\n",
    "plt.title('Logins');\n",
    "plt.xlabel('Amount performed');"
   ]
  },
  {
   "cell_type": "markdown",
   "id": "2e1e651e",
   "metadata": {
    "hidden": true
   },
   "source": [
    "**Considering the school methods, are the students engaged? How can we define engagement?**"
   ]
  },
  {
   "cell_type": "markdown",
   "id": "1b115a8e",
   "metadata": {
    "hidden": true
   },
   "source": [
    "Apparently **NOT**! If we consider engagement as the rate of activities the students perform after classes, we can clearly see there's not much activities being done outside the class!\n",
    "\n",
    "The less worst activity done by the students (Questions) had an **absence rate over 50%**. "
   ]
  },
  {
   "cell_type": "markdown",
   "id": "c4673e04",
   "metadata": {
    "heading_collapsed": true
   },
   "source": [
    "# Student Churn"
   ]
  },
  {
   "cell_type": "code",
   "execution_count": 26,
   "id": "c4b952e4",
   "metadata": {
    "hidden": true
   },
   "outputs": [],
   "source": [
    "df5 = df.copy()"
   ]
  },
  {
   "cell_type": "code",
   "execution_count": 27,
   "id": "3dc82362",
   "metadata": {
    "hidden": true
   },
   "outputs": [
    {
     "data": {
      "text/plain": [
       "-14.55014910175285"
      ]
     },
     "execution_count": 27,
     "metadata": {},
     "output_type": "execute_result"
    }
   ],
   "source": [
    "#Checking general churn rates >>>> less than 15% >>>> -14.55014910175285\n",
    "(df5['Data Cancel.'].isnull().sum()/df.shape[0]-1)*100"
   ]
  },
  {
   "cell_type": "code",
   "execution_count": 28,
   "id": "467a5f27",
   "metadata": {
    "hidden": true
   },
   "outputs": [],
   "source": [
    "df5 = df5.dropna(subset=['Data Cancel.'])\n",
    "df5.reset_index(drop=True, inplace=True)"
   ]
  },
  {
   "cell_type": "code",
   "execution_count": 29,
   "id": "51caba12",
   "metadata": {
    "hidden": true
   },
   "outputs": [],
   "source": [
    "df5['Data Cancel.'] = pd.to_datetime(df5['Data Cancel.'])\n",
    "df5['Data Matr.'] = pd.to_datetime(df5['Data Matr.'])\n",
    "df5['Delta'] = df5['Data Cancel.'] - df5['Data Matr.']\n",
    "\n",
    "#df5['Data Cancel.'] = df5['Data Cancel.'].astype('datetime64[ns]')\n",
    "#df5['Data Matr.'] = df5['Data Matr.'].astype('datetime64[ns]')"
   ]
  },
  {
   "cell_type": "code",
   "execution_count": 30,
   "id": "2fae4d07",
   "metadata": {
    "hidden": true
   },
   "outputs": [],
   "source": [
    "df5['Days'] = ''"
   ]
  },
  {
   "cell_type": "code",
   "execution_count": 31,
   "id": "9fa657c7",
   "metadata": {
    "hidden": true
   },
   "outputs": [
    {
     "name": "stderr",
     "output_type": "stream",
     "text": [
      "/tmp/ipykernel_865/4020459359.py:2: SettingWithCopyWarning: \n",
      "A value is trying to be set on a copy of a slice from a DataFrame\n",
      "\n",
      "See the caveats in the documentation: https://pandas.pydata.org/pandas-docs/stable/user_guide/indexing.html#returning-a-view-versus-a-copy\n",
      "  df5['Days'][i] = df5['Delta'][i].days\n"
     ]
    }
   ],
   "source": [
    "for i in range(0, df5.shape[0]):\n",
    "    df5['Days'][i] = df5['Delta'][i].days\n",
    "\n",
    "df5.drop(columns='Delta', inplace=True)"
   ]
  },
  {
   "cell_type": "code",
   "execution_count": 32,
   "id": "afb9281a",
   "metadata": {
    "hidden": true
   },
   "outputs": [
    {
     "data": {
      "text/html": [
       "<div>\n",
       "<style scoped>\n",
       "    .dataframe tbody tr th:only-of-type {\n",
       "        vertical-align: middle;\n",
       "    }\n",
       "\n",
       "    .dataframe tbody tr th {\n",
       "        vertical-align: top;\n",
       "    }\n",
       "\n",
       "    .dataframe thead th {\n",
       "        text-align: right;\n",
       "    }\n",
       "</style>\n",
       "<table border=\"1\" class=\"dataframe\">\n",
       "  <thead>\n",
       "    <tr style=\"text-align: right;\">\n",
       "      <th></th>\n",
       "      <th>ID Aluno</th>\n",
       "      <th>Turma</th>\n",
       "      <th>Plano</th>\n",
       "      <th>Faixa</th>\n",
       "      <th>Redações</th>\n",
       "      <th>Vídeos</th>\n",
       "      <th>Questões</th>\n",
       "      <th>Data Matr.</th>\n",
       "      <th>Simulados</th>\n",
       "      <th>Tutor</th>\n",
       "      <th>Logins</th>\n",
       "      <th>Perfil</th>\n",
       "      <th>Data Cancel.</th>\n",
       "      <th>Data Nasc.</th>\n",
       "      <th>Acesso até</th>\n",
       "      <th>Days</th>\n",
       "    </tr>\n",
       "  </thead>\n",
       "  <tbody>\n",
       "    <tr>\n",
       "      <th>12</th>\n",
       "      <td>141835</td>\n",
       "      <td>ITA e IME 2020</td>\n",
       "      <td>FULL</td>\n",
       "      <td>Faixa Branca Grau I</td>\n",
       "      <td>0</td>\n",
       "      <td>81</td>\n",
       "      <td>97</td>\n",
       "      <td>2019-12-09 22:09:48</td>\n",
       "      <td>0</td>\n",
       "      <td>COM TUTOR</td>\n",
       "      <td>0</td>\n",
       "      <td>Parcial</td>\n",
       "      <td>2019-10-22 00:00:00</td>\n",
       "      <td>05/04/2001 00:00:00</td>\n",
       "      <td>25/12/2020 00:00:00</td>\n",
       "      <td>-49</td>\n",
       "    </tr>\n",
       "    <tr>\n",
       "      <th>23</th>\n",
       "      <td>141930</td>\n",
       "      <td>ITA e IME 2020</td>\n",
       "      <td>MONTHLY</td>\n",
       "      <td>Faixa Branca Grau IV</td>\n",
       "      <td>0</td>\n",
       "      <td>40</td>\n",
       "      <td>52</td>\n",
       "      <td>2019-09-28 07:16:30</td>\n",
       "      <td>0</td>\n",
       "      <td>COM TUTOR</td>\n",
       "      <td>0</td>\n",
       "      <td>Exclusivo</td>\n",
       "      <td>2019-04-11 20:52:28</td>\n",
       "      <td>12/04/2003 00:00:00</td>\n",
       "      <td>28/10/2019 07:16:28</td>\n",
       "      <td>-170</td>\n",
       "    </tr>\n",
       "    <tr>\n",
       "      <th>531</th>\n",
       "      <td>143587</td>\n",
       "      <td>ITA e IME 2020</td>\n",
       "      <td>MONTHLY</td>\n",
       "      <td>Faixa Branca Grau I</td>\n",
       "      <td>0</td>\n",
       "      <td>0</td>\n",
       "      <td>0</td>\n",
       "      <td>2020-03-01 19:25:02</td>\n",
       "      <td>0</td>\n",
       "      <td>COM TUTOR</td>\n",
       "      <td>0</td>\n",
       "      <td>Exclusivo</td>\n",
       "      <td>2020-01-07 15:00:00</td>\n",
       "      <td>09/11/1999 00:00:00</td>\n",
       "      <td>25/12/2020 00:00:00</td>\n",
       "      <td>-55</td>\n",
       "    </tr>\n",
       "    <tr>\n",
       "      <th>535</th>\n",
       "      <td>143597</td>\n",
       "      <td>ITA e IME 2020</td>\n",
       "      <td>MONTHLY</td>\n",
       "      <td>Faixa Azul Grau III</td>\n",
       "      <td>8</td>\n",
       "      <td>365</td>\n",
       "      <td>2867</td>\n",
       "      <td>2020-04-01 10:55:28</td>\n",
       "      <td>13</td>\n",
       "      <td>COM TUTOR</td>\n",
       "      <td>214</td>\n",
       "      <td>Parcial</td>\n",
       "      <td>2020-02-12 22:41:19</td>\n",
       "      <td>08/05/1999 00:00:00</td>\n",
       "      <td>25/12/2020 02:59:59</td>\n",
       "      <td>-49</td>\n",
       "    </tr>\n",
       "    <tr>\n",
       "      <th>540</th>\n",
       "      <td>143624</td>\n",
       "      <td>Medicina 2020</td>\n",
       "      <td>FULL</td>\n",
       "      <td>Faixa Branca Grau V</td>\n",
       "      <td>0</td>\n",
       "      <td>35</td>\n",
       "      <td>362</td>\n",
       "      <td>2020-05-01 23:06:43</td>\n",
       "      <td>0</td>\n",
       "      <td>COM TUTOR</td>\n",
       "      <td>18</td>\n",
       "      <td>Exclusivo</td>\n",
       "      <td>2020-02-19 02:59:59</td>\n",
       "      <td>10/11/1988 00:00:00</td>\n",
       "      <td>31/01/2021 00:00:00</td>\n",
       "      <td>-73</td>\n",
       "    </tr>\n",
       "    <tr>\n",
       "      <th>...</th>\n",
       "      <td>...</td>\n",
       "      <td>...</td>\n",
       "      <td>...</td>\n",
       "      <td>...</td>\n",
       "      <td>...</td>\n",
       "      <td>...</td>\n",
       "      <td>...</td>\n",
       "      <td>...</td>\n",
       "      <td>...</td>\n",
       "      <td>...</td>\n",
       "      <td>...</td>\n",
       "      <td>...</td>\n",
       "      <td>...</td>\n",
       "      <td>...</td>\n",
       "      <td>...</td>\n",
       "      <td>...</td>\n",
       "    </tr>\n",
       "    <tr>\n",
       "      <th>3990</th>\n",
       "      <td>142515</td>\n",
       "      <td>Medicina e Extensivo 2019</td>\n",
       "      <td>FULL</td>\n",
       "      <td>Faixa Branca Grau I</td>\n",
       "      <td>1</td>\n",
       "      <td>11</td>\n",
       "      <td>0</td>\n",
       "      <td>2019-10-30 13:42:32</td>\n",
       "      <td>0</td>\n",
       "      <td>COM TUTOR</td>\n",
       "      <td>1</td>\n",
       "      <td>Parcial</td>\n",
       "      <td>2019-01-11 14:36:31</td>\n",
       "      <td>20/02/2000 00:00:00</td>\n",
       "      <td>30/10/2019 13:42:32</td>\n",
       "      <td>-292</td>\n",
       "    </tr>\n",
       "    <tr>\n",
       "      <th>3991</th>\n",
       "      <td>142523</td>\n",
       "      <td>Medicina e Extensivo 2019</td>\n",
       "      <td>FULL</td>\n",
       "      <td>Faixa Branca Grau I</td>\n",
       "      <td>0</td>\n",
       "      <td>6</td>\n",
       "      <td>4</td>\n",
       "      <td>2019-10-30 17:54:43</td>\n",
       "      <td>0</td>\n",
       "      <td>COM TUTOR</td>\n",
       "      <td>5</td>\n",
       "      <td>Exclusivo</td>\n",
       "      <td>2019-05-11 07:36:22</td>\n",
       "      <td>25/07/2001 00:00:00</td>\n",
       "      <td>30/10/2019 17:54:43</td>\n",
       "      <td>-173</td>\n",
       "    </tr>\n",
       "    <tr>\n",
       "      <th>3992</th>\n",
       "      <td>142525</td>\n",
       "      <td>Medicina e Extensivo 2019</td>\n",
       "      <td>FULL</td>\n",
       "      <td>Faixa Branca Grau I</td>\n",
       "      <td>0</td>\n",
       "      <td>1</td>\n",
       "      <td>0</td>\n",
       "      <td>2019-10-30 18:55:38</td>\n",
       "      <td>0</td>\n",
       "      <td>COM TUTOR</td>\n",
       "      <td>2</td>\n",
       "      <td>Exclusivo</td>\n",
       "      <td>2019-01-11 12:26:58</td>\n",
       "      <td>05/03/1992 00:00:00</td>\n",
       "      <td>30/10/2019 18:55:38</td>\n",
       "      <td>-293</td>\n",
       "    </tr>\n",
       "    <tr>\n",
       "      <th>3993</th>\n",
       "      <td>142540</td>\n",
       "      <td>ITA e IME 2019</td>\n",
       "      <td>FULL</td>\n",
       "      <td>Faixa Branca Grau I</td>\n",
       "      <td>0</td>\n",
       "      <td>5</td>\n",
       "      <td>4</td>\n",
       "      <td>2019-10-31 20:01:08</td>\n",
       "      <td>1</td>\n",
       "      <td>COM TUTOR</td>\n",
       "      <td>2</td>\n",
       "      <td>Exclusivo</td>\n",
       "      <td>2019-01-11 11:10:38</td>\n",
       "      <td>01/04/2002 00:00:00</td>\n",
       "      <td>31/10/2019 20:01:08</td>\n",
       "      <td>-294</td>\n",
       "    </tr>\n",
       "    <tr>\n",
       "      <th>3998</th>\n",
       "      <td>142808</td>\n",
       "      <td>ITA e IME 2019</td>\n",
       "      <td>MONTHLY</td>\n",
       "      <td>Faixa Branca Grau I</td>\n",
       "      <td>0</td>\n",
       "      <td>0</td>\n",
       "      <td>0</td>\n",
       "      <td>2019-05-11 14:54:22</td>\n",
       "      <td>0</td>\n",
       "      <td>COM TUTOR</td>\n",
       "      <td>0</td>\n",
       "      <td>Exclusivo</td>\n",
       "      <td>2019-01-12 00:00:00</td>\n",
       "      <td>20/07/1999 00:00:00</td>\n",
       "      <td>01/01/2021 00:00:00</td>\n",
       "      <td>-120</td>\n",
       "    </tr>\n",
       "  </tbody>\n",
       "</table>\n",
       "<p>680 rows × 16 columns</p>\n",
       "</div>"
      ],
      "text/plain": [
       "      ID Aluno                      Turma    Plano                 Faixa  \\\n",
       "12      141835             ITA e IME 2020     FULL   Faixa Branca Grau I   \n",
       "23      141930             ITA e IME 2020  MONTHLY  Faixa Branca Grau IV   \n",
       "531     143587             ITA e IME 2020  MONTHLY   Faixa Branca Grau I   \n",
       "535     143597             ITA e IME 2020  MONTHLY   Faixa Azul Grau III   \n",
       "540     143624              Medicina 2020     FULL   Faixa Branca Grau V   \n",
       "...        ...                        ...      ...                   ...   \n",
       "3990    142515  Medicina e Extensivo 2019     FULL   Faixa Branca Grau I   \n",
       "3991    142523  Medicina e Extensivo 2019     FULL   Faixa Branca Grau I   \n",
       "3992    142525  Medicina e Extensivo 2019     FULL   Faixa Branca Grau I   \n",
       "3993    142540             ITA e IME 2019     FULL   Faixa Branca Grau I   \n",
       "3998    142808             ITA e IME 2019  MONTHLY   Faixa Branca Grau I   \n",
       "\n",
       "      Redações  Vídeos  Questões          Data Matr.  Simulados      Tutor  \\\n",
       "12           0      81        97 2019-12-09 22:09:48          0  COM TUTOR   \n",
       "23           0      40        52 2019-09-28 07:16:30          0  COM TUTOR   \n",
       "531          0       0         0 2020-03-01 19:25:02          0  COM TUTOR   \n",
       "535          8     365      2867 2020-04-01 10:55:28         13  COM TUTOR   \n",
       "540          0      35       362 2020-05-01 23:06:43          0  COM TUTOR   \n",
       "...        ...     ...       ...                 ...        ...        ...   \n",
       "3990         1      11         0 2019-10-30 13:42:32          0  COM TUTOR   \n",
       "3991         0       6         4 2019-10-30 17:54:43          0  COM TUTOR   \n",
       "3992         0       1         0 2019-10-30 18:55:38          0  COM TUTOR   \n",
       "3993         0       5         4 2019-10-31 20:01:08          1  COM TUTOR   \n",
       "3998         0       0         0 2019-05-11 14:54:22          0  COM TUTOR   \n",
       "\n",
       "      Logins     Perfil        Data Cancel.           Data Nasc.  \\\n",
       "12         0    Parcial 2019-10-22 00:00:00  05/04/2001 00:00:00   \n",
       "23         0  Exclusivo 2019-04-11 20:52:28  12/04/2003 00:00:00   \n",
       "531        0  Exclusivo 2020-01-07 15:00:00  09/11/1999 00:00:00   \n",
       "535      214    Parcial 2020-02-12 22:41:19  08/05/1999 00:00:00   \n",
       "540       18  Exclusivo 2020-02-19 02:59:59  10/11/1988 00:00:00   \n",
       "...      ...        ...                 ...                  ...   \n",
       "3990       1    Parcial 2019-01-11 14:36:31  20/02/2000 00:00:00   \n",
       "3991       5  Exclusivo 2019-05-11 07:36:22  25/07/2001 00:00:00   \n",
       "3992       2  Exclusivo 2019-01-11 12:26:58  05/03/1992 00:00:00   \n",
       "3993       2  Exclusivo 2019-01-11 11:10:38  01/04/2002 00:00:00   \n",
       "3998       0  Exclusivo 2019-01-12 00:00:00  20/07/1999 00:00:00   \n",
       "\n",
       "               Acesso até  Days  \n",
       "12    25/12/2020 00:00:00   -49  \n",
       "23    28/10/2019 07:16:28  -170  \n",
       "531   25/12/2020 00:00:00   -55  \n",
       "535   25/12/2020 02:59:59   -49  \n",
       "540   31/01/2021 00:00:00   -73  \n",
       "...                   ...   ...  \n",
       "3990  30/10/2019 13:42:32  -292  \n",
       "3991  30/10/2019 17:54:43  -173  \n",
       "3992  30/10/2019 18:55:38  -293  \n",
       "3993  31/10/2019 20:01:08  -294  \n",
       "3998  01/01/2021 00:00:00  -120  \n",
       "\n",
       "[680 rows x 16 columns]"
      ]
     },
     "execution_count": 32,
     "metadata": {},
     "output_type": "execute_result"
    }
   ],
   "source": [
    "#680 records were incorrectly filled, so they won't be eligible for evaluation\n",
    "df5[df5['Days'] < 0]"
   ]
  },
  {
   "cell_type": "code",
   "execution_count": 33,
   "id": "ff623c29",
   "metadata": {
    "hidden": true
   },
   "outputs": [],
   "source": [
    "df5.drop(df5[(df5['Days'] < 0)].index, inplace=True)"
   ]
  },
  {
   "cell_type": "markdown",
   "id": "0548d500",
   "metadata": {
    "heading_collapsed": true,
    "hidden": true
   },
   "source": [
    "## Over 30 days"
   ]
  },
  {
   "cell_type": "code",
   "execution_count": 34,
   "id": "71e5cfe0",
   "metadata": {
    "hidden": true
   },
   "outputs": [
    {
     "data": {
      "text/html": [
       "<div>\n",
       "<style scoped>\n",
       "    .dataframe tbody tr th:only-of-type {\n",
       "        vertical-align: middle;\n",
       "    }\n",
       "\n",
       "    .dataframe tbody tr th {\n",
       "        vertical-align: top;\n",
       "    }\n",
       "\n",
       "    .dataframe thead th {\n",
       "        text-align: right;\n",
       "    }\n",
       "</style>\n",
       "<table border=\"1\" class=\"dataframe\">\n",
       "  <thead>\n",
       "    <tr style=\"text-align: right;\">\n",
       "      <th></th>\n",
       "      <th>ID Aluno</th>\n",
       "      <th>Redações</th>\n",
       "      <th>Vídeos</th>\n",
       "      <th>Questões</th>\n",
       "      <th>Simulados</th>\n",
       "      <th>Logins</th>\n",
       "    </tr>\n",
       "  </thead>\n",
       "  <tbody>\n",
       "    <tr>\n",
       "      <th>count</th>\n",
       "      <td>2748.000000</td>\n",
       "      <td>2748.000000</td>\n",
       "      <td>2748.000000</td>\n",
       "      <td>2748.000000</td>\n",
       "      <td>2748.000000</td>\n",
       "      <td>2748.000000</td>\n",
       "    </tr>\n",
       "    <tr>\n",
       "      <th>mean</th>\n",
       "      <td>142286.571325</td>\n",
       "      <td>5.747089</td>\n",
       "      <td>397.696507</td>\n",
       "      <td>1295.498180</td>\n",
       "      <td>3.300218</td>\n",
       "      <td>61.610626</td>\n",
       "    </tr>\n",
       "    <tr>\n",
       "      <th>std</th>\n",
       "      <td>15324.699869</td>\n",
       "      <td>12.039149</td>\n",
       "      <td>698.822126</td>\n",
       "      <td>2171.571166</td>\n",
       "      <td>6.415515</td>\n",
       "      <td>92.670228</td>\n",
       "    </tr>\n",
       "    <tr>\n",
       "      <th>min</th>\n",
       "      <td>18942.000000</td>\n",
       "      <td>0.000000</td>\n",
       "      <td>0.000000</td>\n",
       "      <td>0.000000</td>\n",
       "      <td>0.000000</td>\n",
       "      <td>0.000000</td>\n",
       "    </tr>\n",
       "    <tr>\n",
       "      <th>25%</th>\n",
       "      <td>129711.750000</td>\n",
       "      <td>0.000000</td>\n",
       "      <td>3.750000</td>\n",
       "      <td>44.000000</td>\n",
       "      <td>0.000000</td>\n",
       "      <td>0.000000</td>\n",
       "    </tr>\n",
       "    <tr>\n",
       "      <th>50%</th>\n",
       "      <td>142938.500000</td>\n",
       "      <td>0.000000</td>\n",
       "      <td>95.000000</td>\n",
       "      <td>291.000000</td>\n",
       "      <td>0.000000</td>\n",
       "      <td>13.000000</td>\n",
       "    </tr>\n",
       "    <tr>\n",
       "      <th>75%</th>\n",
       "      <td>149870.250000</td>\n",
       "      <td>5.000000</td>\n",
       "      <td>447.250000</td>\n",
       "      <td>1553.750000</td>\n",
       "      <td>3.000000</td>\n",
       "      <td>85.000000</td>\n",
       "    </tr>\n",
       "    <tr>\n",
       "      <th>max</th>\n",
       "      <td>172278.000000</td>\n",
       "      <td>111.000000</td>\n",
       "      <td>6324.000000</td>\n",
       "      <td>16004.000000</td>\n",
       "      <td>62.000000</td>\n",
       "      <td>611.000000</td>\n",
       "    </tr>\n",
       "  </tbody>\n",
       "</table>\n",
       "</div>"
      ],
      "text/plain": [
       "            ID Aluno     Redações       Vídeos      Questões    Simulados  \\\n",
       "count    2748.000000  2748.000000  2748.000000   2748.000000  2748.000000   \n",
       "mean   142286.571325     5.747089   397.696507   1295.498180     3.300218   \n",
       "std     15324.699869    12.039149   698.822126   2171.571166     6.415515   \n",
       "min     18942.000000     0.000000     0.000000      0.000000     0.000000   \n",
       "25%    129711.750000     0.000000     3.750000     44.000000     0.000000   \n",
       "50%    142938.500000     0.000000    95.000000    291.000000     0.000000   \n",
       "75%    149870.250000     5.000000   447.250000   1553.750000     3.000000   \n",
       "max    172278.000000   111.000000  6324.000000  16004.000000    62.000000   \n",
       "\n",
       "            Logins  \n",
       "count  2748.000000  \n",
       "mean     61.610626  \n",
       "std      92.670228  \n",
       "min       0.000000  \n",
       "25%       0.000000  \n",
       "50%      13.000000  \n",
       "75%      85.000000  \n",
       "max     611.000000  "
      ]
     },
     "execution_count": 34,
     "metadata": {},
     "output_type": "execute_result"
    }
   ],
   "source": [
    "df_over_30 = df5[df5['Days'] > 30]\n",
    "df_over_30.describe()"
   ]
  },
  {
   "cell_type": "code",
   "execution_count": 35,
   "id": "bb1257ee",
   "metadata": {
    "hidden": true
   },
   "outputs": [],
   "source": [
    "days = [d for d in df_over_30['Days']]"
   ]
  },
  {
   "cell_type": "code",
   "execution_count": 36,
   "id": "fd4d7f79",
   "metadata": {
    "hidden": true
   },
   "outputs": [
    {
     "data": {
      "image/png": "[encoded data removed]",
      "text/plain": [
       "<Figure size 1080x360 with 1 Axes>"
      ]
     },
     "metadata": {
      "needs_background": "light"
     },
     "output_type": "display_data"
    }
   ],
   "source": [
    "#Checking the distribution of days until the cancelation\n",
    "plt.figure(figsize=(15, 5))\n",
    "plt.hist(days, bins=50);\n",
    "plt.title('Cancellations After 30 Days');\n",
    "plt.xlabel('Days');\n",
    "plt.ylabel('Number of Students');"
   ]
  },
  {
   "cell_type": "code",
   "execution_count": 37,
   "id": "13938f3a",
   "metadata": {
    "hidden": true
   },
   "outputs": [
    {
     "data": {
      "text/plain": [
       "Extensivo Medicina 2021               541\n",
       "Medicina e Extensivo 2019             506\n",
       "Medicina 2020                         504\n",
       "ITA e IME 2019                        426\n",
       "ITA e IME 2020                        372\n",
       "Extensivo ITA/IME 2021                263\n",
       "SEMIEXTENSIVO - TURMA MED 2020         38\n",
       "Semiextensivo Medicina 2019            31\n",
       "Extensivo 18                           24\n",
       "Semiextensivo 18                       18\n",
       "Intensivo 2019                         14\n",
       "Intensivo ITA-IME 2021                  7\n",
       "SEMIEXTENSIVO - TURMA ITA/IME 2020      3\n",
       "Intensivo 2018                          1\n",
       "Name: Turma, dtype: int64"
      ]
     },
     "execution_count": 37,
     "metadata": {},
     "output_type": "execute_result"
    }
   ],
   "source": [
    "df_over_30['Turma'].value_counts()"
   ]
  },
  {
   "cell_type": "code",
   "execution_count": 38,
   "id": "6c8d71a1",
   "metadata": {
    "hidden": true
   },
   "outputs": [
    {
     "data": {
      "text/plain": [
       "COM TUTOR    73.253275\n",
       "SEM TUTOR    26.746725\n",
       "Name: Tutor, dtype: float64"
      ]
     },
     "execution_count": 38,
     "metadata": {},
     "output_type": "execute_result"
    }
   ],
   "source": [
    "df_over_30['Tutor'].value_counts()/df_over_30.shape[0]*100"
   ]
  },
  {
   "cell_type": "code",
   "execution_count": 39,
   "id": "e9b0101e",
   "metadata": {
    "hidden": true
   },
   "outputs": [
    {
     "data": {
      "text/plain": [
       "Exclusivo    75.327511\n",
       "Parcial      19.614265\n",
       "Consulta      5.058224\n",
       "Name: Perfil, dtype: float64"
      ]
     },
     "execution_count": 39,
     "metadata": {},
     "output_type": "execute_result"
    }
   ],
   "source": [
    "df_over_30['Perfil'].value_counts()/df_over_30.shape[0]*100"
   ]
  },
  {
   "cell_type": "code",
   "execution_count": 40,
   "id": "3e08eba0",
   "metadata": {
    "hidden": true
   },
   "outputs": [
    {
     "data": {
      "text/plain": [
       "Faixa Branca Grau I      1446\n",
       "Faixa Branca Grau IV      291\n",
       "Faixa Verde Grau II       201\n",
       "Faixa Branca Grau V       186\n",
       "Faixa Verde Grau I        186\n",
       "Faixa Verde Grau III       90\n",
       "Faixa Azul Grau III        87\n",
       "Faixa Branca Grau III      76\n",
       "Faixa Azul Grau II         49\n",
       "Faixa Preta Grau III       48\n",
       "Faixa Lilás Grau III       23\n",
       "Faixa Lilás Grau I         23\n",
       "Faixa Branca Grau II       15\n",
       "Faixa Azul Grau I          11\n",
       "Faixa Preta Grau I          7\n",
       "Faixa Lilás Grau II         5\n",
       "Faixa Preta Grau II         4\n",
       "Name: Faixa, dtype: int64"
      ]
     },
     "execution_count": 40,
     "metadata": {},
     "output_type": "execute_result"
    }
   ],
   "source": [
    "df_over_30['Faixa'].value_counts()"
   ]
  },
  {
   "cell_type": "code",
   "execution_count": 41,
   "id": "d5729efc",
   "metadata": {
    "hidden": true
   },
   "outputs": [
    {
     "data": {
      "image/png": "[encoded data removed]",
      "text/plain": [
       "<Figure size 1440x216 with 5 Axes>"
      ]
     },
     "metadata": {
      "needs_background": "light"
     },
     "output_type": "display_data"
    }
   ],
   "source": [
    "plt.figure(figsize=(20, 3))\n",
    "plt.subplot(1, 5, 1)\n",
    "plt.hist(df_over_30['Redações'], bins=30);\n",
    "plt.title('Redações');\n",
    "plt.subplot(1, 5, 2)\n",
    "plt.hist(df_over_30['Vídeos'], bins=30);\n",
    "plt.title('Vídeos');\n",
    "plt.subplot(1, 5, 3)\n",
    "plt.hist(df_over_30['Questões'], bins=30);\n",
    "plt.title('Questões');\n",
    "plt.subplot(1, 5, 4)\n",
    "plt.hist(df_over_30['Simulados'], bins=30);\n",
    "plt.title('Simulados');\n",
    "plt.subplot(1, 5, 5)\n",
    "plt.hist(df_over_30['Logins'], bins=30);\n",
    "plt.title('Logins');"
   ]
  },
  {
   "cell_type": "markdown",
   "id": "b5b75e8d",
   "metadata": {
    "hidden": true
   },
   "source": [
    "The majority of students who left the course after 30 days were enrolled on 2 of the most relevant courses (obviously this would happen due to its proportion). However, a similar amount of drop off students were enrolled on the same course, but for different years.\n",
    "\n",
    "One curious fact was that most of those students were having a Tutor's support (while the majority of students choose not to proceed with this condition). This could be a sign that the drop off students realized, along with their Tutors, that they were on the wrong path (maybe due to family pressure, maybe social values and expectation).\n",
    "\n",
    "The extra-curricular activities went by the same way: the majority of students did not perform them.\n",
    "\n",
    "The students didn't evolve during the process, once the highest amount of drop offs were still considered White Belts I."
   ]
  },
  {
   "cell_type": "markdown",
   "id": "86e1c9e1",
   "metadata": {
    "heading_collapsed": true,
    "hidden": true
   },
   "source": [
    "## Under 14 days"
   ]
  },
  {
   "cell_type": "code",
   "execution_count": 42,
   "id": "0677f46d",
   "metadata": {
    "hidden": true
   },
   "outputs": [
    {
     "data": {
      "text/html": [
       "<div>\n",
       "<style scoped>\n",
       "    .dataframe tbody tr th:only-of-type {\n",
       "        vertical-align: middle;\n",
       "    }\n",
       "\n",
       "    .dataframe tbody tr th {\n",
       "        vertical-align: top;\n",
       "    }\n",
       "\n",
       "    .dataframe thead th {\n",
       "        text-align: right;\n",
       "    }\n",
       "</style>\n",
       "<table border=\"1\" class=\"dataframe\">\n",
       "  <thead>\n",
       "    <tr style=\"text-align: right;\">\n",
       "      <th></th>\n",
       "      <th>ID Aluno</th>\n",
       "      <th>Redações</th>\n",
       "      <th>Vídeos</th>\n",
       "      <th>Questões</th>\n",
       "      <th>Simulados</th>\n",
       "      <th>Logins</th>\n",
       "    </tr>\n",
       "  </thead>\n",
       "  <tbody>\n",
       "    <tr>\n",
       "      <th>count</th>\n",
       "      <td>262.000000</td>\n",
       "      <td>262.000000</td>\n",
       "      <td>262.000000</td>\n",
       "      <td>262.000000</td>\n",
       "      <td>262.000000</td>\n",
       "      <td>262.000000</td>\n",
       "    </tr>\n",
       "    <tr>\n",
       "      <th>mean</th>\n",
       "      <td>146778.958015</td>\n",
       "      <td>0.958015</td>\n",
       "      <td>82.541985</td>\n",
       "      <td>228.969466</td>\n",
       "      <td>0.610687</td>\n",
       "      <td>9.122137</td>\n",
       "    </tr>\n",
       "    <tr>\n",
       "      <th>std</th>\n",
       "      <td>14467.847166</td>\n",
       "      <td>3.746026</td>\n",
       "      <td>322.414377</td>\n",
       "      <td>747.722974</td>\n",
       "      <td>2.153399</td>\n",
       "      <td>35.357078</td>\n",
       "    </tr>\n",
       "    <tr>\n",
       "      <th>min</th>\n",
       "      <td>113492.000000</td>\n",
       "      <td>0.000000</td>\n",
       "      <td>0.000000</td>\n",
       "      <td>0.000000</td>\n",
       "      <td>0.000000</td>\n",
       "      <td>0.000000</td>\n",
       "    </tr>\n",
       "    <tr>\n",
       "      <th>25%</th>\n",
       "      <td>135392.000000</td>\n",
       "      <td>0.000000</td>\n",
       "      <td>0.000000</td>\n",
       "      <td>0.000000</td>\n",
       "      <td>0.000000</td>\n",
       "      <td>0.000000</td>\n",
       "    </tr>\n",
       "    <tr>\n",
       "      <th>50%</th>\n",
       "      <td>145963.500000</td>\n",
       "      <td>0.000000</td>\n",
       "      <td>6.000000</td>\n",
       "      <td>9.000000</td>\n",
       "      <td>0.000000</td>\n",
       "      <td>1.000000</td>\n",
       "    </tr>\n",
       "    <tr>\n",
       "      <th>75%</th>\n",
       "      <td>162057.250000</td>\n",
       "      <td>0.000000</td>\n",
       "      <td>34.750000</td>\n",
       "      <td>62.000000</td>\n",
       "      <td>0.000000</td>\n",
       "      <td>4.000000</td>\n",
       "    </tr>\n",
       "    <tr>\n",
       "      <th>max</th>\n",
       "      <td>171483.000000</td>\n",
       "      <td>33.000000</td>\n",
       "      <td>2816.000000</td>\n",
       "      <td>5052.000000</td>\n",
       "      <td>22.000000</td>\n",
       "      <td>264.000000</td>\n",
       "    </tr>\n",
       "  </tbody>\n",
       "</table>\n",
       "</div>"
      ],
      "text/plain": [
       "            ID Aluno    Redações       Vídeos     Questões   Simulados  \\\n",
       "count     262.000000  262.000000   262.000000   262.000000  262.000000   \n",
       "mean   146778.958015    0.958015    82.541985   228.969466    0.610687   \n",
       "std     14467.847166    3.746026   322.414377   747.722974    2.153399   \n",
       "min    113492.000000    0.000000     0.000000     0.000000    0.000000   \n",
       "25%    135392.000000    0.000000     0.000000     0.000000    0.000000   \n",
       "50%    145963.500000    0.000000     6.000000     9.000000    0.000000   \n",
       "75%    162057.250000    0.000000    34.750000    62.000000    0.000000   \n",
       "max    171483.000000   33.000000  2816.000000  5052.000000   22.000000   \n",
       "\n",
       "           Logins  \n",
       "count  262.000000  \n",
       "mean     9.122137  \n",
       "std     35.357078  \n",
       "min      0.000000  \n",
       "25%      0.000000  \n",
       "50%      1.000000  \n",
       "75%      4.000000  \n",
       "max    264.000000  "
      ]
     },
     "execution_count": 42,
     "metadata": {},
     "output_type": "execute_result"
    }
   ],
   "source": [
    "df_under_14 = df5[df5['Days'] < 15]\n",
    "df_under_14.describe()"
   ]
  },
  {
   "cell_type": "code",
   "execution_count": 43,
   "id": "f404191d",
   "metadata": {
    "hidden": true
   },
   "outputs": [],
   "source": [
    "days = [d for d in df_under_14['Days']]"
   ]
  },
  {
   "cell_type": "code",
   "execution_count": 44,
   "id": "50646920",
   "metadata": {
    "hidden": true
   },
   "outputs": [
    {
     "data": {
      "image/png": "[encoded data removed]",
      "text/plain": [
       "<Figure size 1080x360 with 1 Axes>"
      ]
     },
     "metadata": {
      "needs_background": "light"
     },
     "output_type": "display_data"
    }
   ],
   "source": [
    "#Checking the distribution of days until the cancelation\n",
    "plt.figure(figsize=(15, 5))\n",
    "plt.hist(days, bins=10);"
   ]
  },
  {
   "cell_type": "code",
   "execution_count": 45,
   "id": "95b47ee8",
   "metadata": {
    "hidden": true
   },
   "outputs": [
    {
     "data": {
      "text/plain": [
       "Extensivo Medicina 2021               27.480916\n",
       "Medicina 2020                         17.938931\n",
       "Medicina e Extensivo 2019             11.450382\n",
       "ITA e IME 2019                        11.450382\n",
       "ITA e IME 2020                         9.923664\n",
       "Extensivo ITA/IME 2021                 7.633588\n",
       "Semiextensivo Medicina 2019            4.961832\n",
       "SEMIEXTENSIVO - TURMA MED 2020         4.580153\n",
       "Extensivo 18                           1.908397\n",
       "Intensivo 2019                         1.145038\n",
       "SEMIEXTENSIVO - TURMA ITA/IME 2020     0.763359\n",
       "Intensivo ITA-IME 2021                 0.381679\n",
       "Semiextensivo 18                       0.381679\n",
       "Name: Turma, dtype: float64"
      ]
     },
     "execution_count": 45,
     "metadata": {},
     "output_type": "execute_result"
    }
   ],
   "source": [
    "df_under_14['Turma'].value_counts()/df_under_14.shape[0]*100"
   ]
  },
  {
   "cell_type": "code",
   "execution_count": 46,
   "id": "bc2df604",
   "metadata": {
    "hidden": true
   },
   "outputs": [],
   "source": [
    "df_under_14_med21 = df_under_14[df_under_14['Turma'] == 'Extensivo Medicina 2021']"
   ]
  },
  {
   "cell_type": "code",
   "execution_count": 47,
   "id": "c56db700",
   "metadata": {
    "hidden": true
   },
   "outputs": [
    {
     "data": {
      "text/plain": [
       "1      14\n",
       "2      12\n",
       "0      11\n",
       "3       7\n",
       "4       5\n",
       "6       4\n",
       "5       4\n",
       "7       3\n",
       "10      2\n",
       "30      1\n",
       "59      1\n",
       "13      1\n",
       "38      1\n",
       "54      1\n",
       "12      1\n",
       "209     1\n",
       "166     1\n",
       "8       1\n",
       "64      1\n",
       "Name: Logins, dtype: int64"
      ]
     },
     "execution_count": 47,
     "metadata": {},
     "output_type": "execute_result"
    }
   ],
   "source": [
    "#df_under_14_med21['Tutor'].value_counts()\n",
    "#SEM TUTOR    71\n",
    "#COM TUTOR     1\n",
    "\n",
    "df_under_14_med21['Logins'].value_counts()"
   ]
  },
  {
   "cell_type": "code",
   "execution_count": 48,
   "id": "d15a09b2",
   "metadata": {
    "hidden": true
   },
   "outputs": [
    {
     "data": {
      "text/plain": [
       "SEM TUTOR    153\n",
       "COM TUTOR    109\n",
       "Name: Tutor, dtype: int64"
      ]
     },
     "execution_count": 48,
     "metadata": {},
     "output_type": "execute_result"
    }
   ],
   "source": [
    "df_under_14['Tutor'].value_counts()"
   ]
  },
  {
   "cell_type": "code",
   "execution_count": 49,
   "id": "1b848573",
   "metadata": {
    "hidden": true
   },
   "outputs": [
    {
     "data": {
      "text/plain": [
       "Exclusivo    224\n",
       "Parcial       31\n",
       "Consulta       7\n",
       "Name: Perfil, dtype: int64"
      ]
     },
     "execution_count": 49,
     "metadata": {},
     "output_type": "execute_result"
    }
   ],
   "source": [
    "df_under_14['Perfil'].value_counts()"
   ]
  },
  {
   "cell_type": "code",
   "execution_count": 50,
   "id": "9fbd84d2",
   "metadata": {
    "hidden": true
   },
   "outputs": [
    {
     "data": {
      "text/plain": [
       "Faixa Branca Grau I      165\n",
       "Faixa Branca Grau IV      43\n",
       "Faixa Branca Grau III     21\n",
       "Faixa Branca Grau V       13\n",
       "Faixa Branca Grau II       8\n",
       "Faixa Verde Grau II        5\n",
       "Faixa Verde Grau I         4\n",
       "Faixa Azul Grau II         2\n",
       "Faixa Azul Grau III        1\n",
       "Name: Faixa, dtype: int64"
      ]
     },
     "execution_count": 50,
     "metadata": {},
     "output_type": "execute_result"
    }
   ],
   "source": [
    "df_under_14['Faixa'].value_counts()"
   ]
  },
  {
   "cell_type": "code",
   "execution_count": 51,
   "id": "556ce356",
   "metadata": {
    "hidden": true
   },
   "outputs": [
    {
     "data": {
      "image/png": "[encoded data removed]",
      "text/plain": [
       "<Figure size 1440x216 with 5 Axes>"
      ]
     },
     "metadata": {
      "needs_background": "light"
     },
     "output_type": "display_data"
    }
   ],
   "source": [
    "plt.figure(figsize=(20, 3))\n",
    "plt.subplot(1, 5, 1)\n",
    "plt.hist(df_under_14['Redações'], bins=30);\n",
    "plt.title('Redações');\n",
    "plt.subplot(1, 5, 2)\n",
    "plt.hist(df_under_14['Vídeos'], bins=30);\n",
    "plt.title('Vídeos');\n",
    "plt.subplot(1, 5, 3)\n",
    "plt.hist(df_under_14['Questões'], bins=30);\n",
    "plt.title('Questões');\n",
    "plt.subplot(1, 5, 4)\n",
    "plt.hist(df_under_14['Simulados'], bins=30);\n",
    "plt.title('Simulados');\n",
    "plt.subplot(1, 5, 5)\n",
    "plt.hist(df_under_14['Logins'], bins=30);\n",
    "plt.title('Logins');"
   ]
  },
  {
   "cell_type": "markdown",
   "id": "28da76e3",
   "metadata": {
    "hidden": true
   },
   "source": [
    "The majority of students who left the course after 30 days were enrolled on 2 of the most relevant courses (obviously this would happen due to its proportion). However, a similar amount of drop off students were enrolled on the same course, but for different years.\n",
    "\n",
    "Regarding the Tutor choice, there wasn't any specific flags.\n",
    "\n",
    "The extra-curricular activities went by the same way: the majority of students did not perform them. However, we do see some outliers. probably some students who enrolled the course, downloaded everything he could on the first days and then requested the cancellation (but this profile is not significantly among the others).\n",
    "\n",
    "The students didn't evolve during the process, once the highest amount of drop offs were still considered White Belts I."
   ]
  },
  {
   "cell_type": "markdown",
   "id": "7a9dc6c9",
   "metadata": {
    "heading_collapsed": true
   },
   "source": [
    "# Tutor's Role"
   ]
  },
  {
   "cell_type": "code",
   "execution_count": 52,
   "id": "a48b0366",
   "metadata": {
    "hidden": true
   },
   "outputs": [],
   "source": [
    "df6 = df.copy()"
   ]
  },
  {
   "cell_type": "code",
   "execution_count": 53,
   "id": "32c60ed6",
   "metadata": {
    "hidden": true
   },
   "outputs": [
    {
     "data": {
      "text/html": [
       "<div>\n",
       "<style scoped>\n",
       "    .dataframe tbody tr th:only-of-type {\n",
       "        vertical-align: middle;\n",
       "    }\n",
       "\n",
       "    .dataframe tbody tr th {\n",
       "        vertical-align: top;\n",
       "    }\n",
       "\n",
       "    .dataframe thead th {\n",
       "        text-align: right;\n",
       "    }\n",
       "</style>\n",
       "<table border=\"1\" class=\"dataframe\">\n",
       "  <thead>\n",
       "    <tr style=\"text-align: right;\">\n",
       "      <th></th>\n",
       "      <th>ID Aluno</th>\n",
       "      <th>Turma</th>\n",
       "      <th>Plano</th>\n",
       "      <th>Faixa</th>\n",
       "      <th>Redações</th>\n",
       "      <th>Vídeos</th>\n",
       "      <th>Questões</th>\n",
       "      <th>Data Matr.</th>\n",
       "      <th>Simulados</th>\n",
       "      <th>Tutor</th>\n",
       "      <th>Logins</th>\n",
       "      <th>Perfil</th>\n",
       "      <th>Data Cancel.</th>\n",
       "      <th>Data Nasc.</th>\n",
       "      <th>Acesso até</th>\n",
       "    </tr>\n",
       "  </thead>\n",
       "  <tbody>\n",
       "    <tr>\n",
       "      <th>0</th>\n",
       "      <td>95738</td>\n",
       "      <td>Medicina 2020</td>\n",
       "      <td>MONTHLY</td>\n",
       "      <td>Faixa Branca Grau III</td>\n",
       "      <td>0</td>\n",
       "      <td>1</td>\n",
       "      <td>0</td>\n",
       "      <td>04/04/2017 05:40:09</td>\n",
       "      <td>1</td>\n",
       "      <td>COM TUTOR</td>\n",
       "      <td>1</td>\n",
       "      <td>Exclusivo</td>\n",
       "      <td>NaN</td>\n",
       "      <td>NaN</td>\n",
       "      <td>18/03/2020 02:59:59</td>\n",
       "    </tr>\n",
       "    <tr>\n",
       "      <th>1</th>\n",
       "      <td>112701</td>\n",
       "      <td>Medicina 2020</td>\n",
       "      <td>MONTHLY</td>\n",
       "      <td>Faixa Preta Grau III</td>\n",
       "      <td>0</td>\n",
       "      <td>9</td>\n",
       "      <td>124</td>\n",
       "      <td>07/11/2017 14:06:36</td>\n",
       "      <td>1</td>\n",
       "      <td>COM TUTOR</td>\n",
       "      <td>4</td>\n",
       "      <td>Exclusivo</td>\n",
       "      <td>NaN</td>\n",
       "      <td>05/02/1984 00:00:00</td>\n",
       "      <td>31/12/2031 02:59:59</td>\n",
       "    </tr>\n",
       "    <tr>\n",
       "      <th>2</th>\n",
       "      <td>112702</td>\n",
       "      <td>Medicina 2020</td>\n",
       "      <td>MONTHLY</td>\n",
       "      <td>Faixa Verde Grau II</td>\n",
       "      <td>2</td>\n",
       "      <td>74</td>\n",
       "      <td>1359</td>\n",
       "      <td>07/11/2017 15:43:33</td>\n",
       "      <td>4</td>\n",
       "      <td>COM TUTOR</td>\n",
       "      <td>86</td>\n",
       "      <td>Exclusivo</td>\n",
       "      <td>NaN</td>\n",
       "      <td>19/07/1980 00:00:00</td>\n",
       "      <td>30/12/2029 15:00:00</td>\n",
       "    </tr>\n",
       "    <tr>\n",
       "      <th>3</th>\n",
       "      <td>120504</td>\n",
       "      <td>ITA e IME 2020</td>\n",
       "      <td>FULL</td>\n",
       "      <td>Faixa Branca Grau I</td>\n",
       "      <td>0</td>\n",
       "      <td>24</td>\n",
       "      <td>64</td>\n",
       "      <td>27/09/2019 00:00:00</td>\n",
       "      <td>4</td>\n",
       "      <td>COM TUTOR</td>\n",
       "      <td>5</td>\n",
       "      <td>Exclusivo</td>\n",
       "      <td>20/02/2020 02:59:59</td>\n",
       "      <td>07/04/2002 00:00:00</td>\n",
       "      <td>24/12/2020 15:00:00</td>\n",
       "    </tr>\n",
       "    <tr>\n",
       "      <th>4</th>\n",
       "      <td>120759</td>\n",
       "      <td>ITA e IME 2020</td>\n",
       "      <td>FULL</td>\n",
       "      <td>Faixa Verde Grau I</td>\n",
       "      <td>17</td>\n",
       "      <td>1166</td>\n",
       "      <td>1598</td>\n",
       "      <td>18/08/2019 00:00:00</td>\n",
       "      <td>2</td>\n",
       "      <td>COM TUTOR</td>\n",
       "      <td>237</td>\n",
       "      <td>Exclusivo</td>\n",
       "      <td>NaN</td>\n",
       "      <td>05/12/2001 00:00:00</td>\n",
       "      <td>22/02/2021 02:59:59</td>\n",
       "    </tr>\n",
       "    <tr>\n",
       "      <th>...</th>\n",
       "      <td>...</td>\n",
       "      <td>...</td>\n",
       "      <td>...</td>\n",
       "      <td>...</td>\n",
       "      <td>...</td>\n",
       "      <td>...</td>\n",
       "      <td>...</td>\n",
       "      <td>...</td>\n",
       "      <td>...</td>\n",
       "      <td>...</td>\n",
       "      <td>...</td>\n",
       "      <td>...</td>\n",
       "      <td>...</td>\n",
       "      <td>...</td>\n",
       "      <td>...</td>\n",
       "    </tr>\n",
       "    <tr>\n",
       "      <th>27493</th>\n",
       "      <td>143264</td>\n",
       "      <td>ITA e IME 2019</td>\n",
       "      <td>MONTHLY</td>\n",
       "      <td>Faixa Branca Grau I</td>\n",
       "      <td>0</td>\n",
       "      <td>0</td>\n",
       "      <td>0</td>\n",
       "      <td>5/12/2019 12:48:53</td>\n",
       "      <td>0</td>\n",
       "      <td>COM TUTOR</td>\n",
       "      <td>0</td>\n",
       "      <td>Exclusivo</td>\n",
       "      <td>NaN</td>\n",
       "      <td>20/12/2000 00:00:00</td>\n",
       "      <td>23/12/2019 15:00:00</td>\n",
       "    </tr>\n",
       "    <tr>\n",
       "      <th>27494</th>\n",
       "      <td>143265</td>\n",
       "      <td>Medicina e Extensivo 2019</td>\n",
       "      <td>MONTHLY</td>\n",
       "      <td>Faixa Branca Grau I</td>\n",
       "      <td>3</td>\n",
       "      <td>0</td>\n",
       "      <td>0</td>\n",
       "      <td>5/12/2019 13:32:17</td>\n",
       "      <td>0</td>\n",
       "      <td>COM TUTOR</td>\n",
       "      <td>6</td>\n",
       "      <td>Exclusivo</td>\n",
       "      <td>NaN</td>\n",
       "      <td>16/03/2000 00:00:00</td>\n",
       "      <td>23/01/2020 15:00:00</td>\n",
       "    </tr>\n",
       "    <tr>\n",
       "      <th>27495</th>\n",
       "      <td>143269</td>\n",
       "      <td>Medicina e Extensivo 2019</td>\n",
       "      <td>MONTHLY</td>\n",
       "      <td>Faixa Branca Grau I</td>\n",
       "      <td>0</td>\n",
       "      <td>0</td>\n",
       "      <td>0</td>\n",
       "      <td>5/12/2019 17:28:52</td>\n",
       "      <td>0</td>\n",
       "      <td>COM TUTOR</td>\n",
       "      <td>0</td>\n",
       "      <td>Exclusivo</td>\n",
       "      <td>NaN</td>\n",
       "      <td>10/08/2001 00:00:00</td>\n",
       "      <td>23/01/2020 15:00:00</td>\n",
       "    </tr>\n",
       "    <tr>\n",
       "      <th>27496</th>\n",
       "      <td>143321</td>\n",
       "      <td>ITA e IME 2019</td>\n",
       "      <td>MONTHLY</td>\n",
       "      <td>Faixa Branca Grau I</td>\n",
       "      <td>0</td>\n",
       "      <td>35</td>\n",
       "      <td>27</td>\n",
       "      <td>9/12/2019 12:08:18</td>\n",
       "      <td>0</td>\n",
       "      <td>COM TUTOR</td>\n",
       "      <td>15</td>\n",
       "      <td>Exclusivo</td>\n",
       "      <td>NaN</td>\n",
       "      <td>30/09/2001 00:00:00</td>\n",
       "      <td>23/01/2020 15:00:00</td>\n",
       "    </tr>\n",
       "    <tr>\n",
       "      <th>27497</th>\n",
       "      <td>143479</td>\n",
       "      <td>ITA e IME 2019</td>\n",
       "      <td>MONTHLY</td>\n",
       "      <td>Faixa Branca Grau I</td>\n",
       "      <td>0</td>\n",
       "      <td>14</td>\n",
       "      <td>7</td>\n",
       "      <td>20/12/2019 20:11:59</td>\n",
       "      <td>0</td>\n",
       "      <td>COM TUTOR</td>\n",
       "      <td>47</td>\n",
       "      <td>Exclusivo</td>\n",
       "      <td>NaN</td>\n",
       "      <td>30/12/1988 00:00:00</td>\n",
       "      <td>31/01/2021 00:00:00</td>\n",
       "    </tr>\n",
       "  </tbody>\n",
       "</table>\n",
       "<p>7098 rows × 15 columns</p>\n",
       "</div>"
      ],
      "text/plain": [
       "       ID Aluno                      Turma    Plano                  Faixa  \\\n",
       "0         95738              Medicina 2020  MONTHLY  Faixa Branca Grau III   \n",
       "1        112701              Medicina 2020  MONTHLY   Faixa Preta Grau III   \n",
       "2        112702              Medicina 2020  MONTHLY    Faixa Verde Grau II   \n",
       "3        120504             ITA e IME 2020     FULL    Faixa Branca Grau I   \n",
       "4        120759             ITA e IME 2020     FULL     Faixa Verde Grau I   \n",
       "...         ...                        ...      ...                    ...   \n",
       "27493    143264             ITA e IME 2019  MONTHLY    Faixa Branca Grau I   \n",
       "27494    143265  Medicina e Extensivo 2019  MONTHLY    Faixa Branca Grau I   \n",
       "27495    143269  Medicina e Extensivo 2019  MONTHLY    Faixa Branca Grau I   \n",
       "27496    143321             ITA e IME 2019  MONTHLY    Faixa Branca Grau I   \n",
       "27497    143479             ITA e IME 2019  MONTHLY    Faixa Branca Grau I   \n",
       "\n",
       "       Redações  Vídeos  Questões           Data Matr.  Simulados      Tutor  \\\n",
       "0             0       1         0  04/04/2017 05:40:09          1  COM TUTOR   \n",
       "1             0       9       124  07/11/2017 14:06:36          1  COM TUTOR   \n",
       "2             2      74      1359  07/11/2017 15:43:33          4  COM TUTOR   \n",
       "3             0      24        64  27/09/2019 00:00:00          4  COM TUTOR   \n",
       "4            17    1166      1598  18/08/2019 00:00:00          2  COM TUTOR   \n",
       "...         ...     ...       ...                  ...        ...        ...   \n",
       "27493         0       0         0   5/12/2019 12:48:53          0  COM TUTOR   \n",
       "27494         3       0         0   5/12/2019 13:32:17          0  COM TUTOR   \n",
       "27495         0       0         0   5/12/2019 17:28:52          0  COM TUTOR   \n",
       "27496         0      35        27   9/12/2019 12:08:18          0  COM TUTOR   \n",
       "27497         0      14         7  20/12/2019 20:11:59          0  COM TUTOR   \n",
       "\n",
       "       Logins     Perfil         Data Cancel.           Data Nasc.  \\\n",
       "0           1  Exclusivo                  NaN                  NaN   \n",
       "1           4  Exclusivo                  NaN  05/02/1984 00:00:00   \n",
       "2          86  Exclusivo                  NaN  19/07/1980 00:00:00   \n",
       "3           5  Exclusivo  20/02/2020 02:59:59  07/04/2002 00:00:00   \n",
       "4         237  Exclusivo                  NaN  05/12/2001 00:00:00   \n",
       "...       ...        ...                  ...                  ...   \n",
       "27493       0  Exclusivo                  NaN  20/12/2000 00:00:00   \n",
       "27494       6  Exclusivo                  NaN  16/03/2000 00:00:00   \n",
       "27495       0  Exclusivo                  NaN  10/08/2001 00:00:00   \n",
       "27496      15  Exclusivo                  NaN  30/09/2001 00:00:00   \n",
       "27497      47  Exclusivo                  NaN  30/12/1988 00:00:00   \n",
       "\n",
       "                Acesso até  \n",
       "0      18/03/2020 02:59:59  \n",
       "1      31/12/2031 02:59:59  \n",
       "2      30/12/2029 15:00:00  \n",
       "3      24/12/2020 15:00:00  \n",
       "4      22/02/2021 02:59:59  \n",
       "...                    ...  \n",
       "27493  23/12/2019 15:00:00  \n",
       "27494  23/01/2020 15:00:00  \n",
       "27495  23/01/2020 15:00:00  \n",
       "27496  23/01/2020 15:00:00  \n",
       "27497  31/01/2021 00:00:00  \n",
       "\n",
       "[7098 rows x 15 columns]"
      ]
     },
     "execution_count": 53,
     "metadata": {},
     "output_type": "execute_result"
    }
   ],
   "source": [
    "df6 = df6[df6['Tutor'] == 'COM TUTOR']\n",
    "df6"
   ]
  },
  {
   "cell_type": "code",
   "execution_count": 54,
   "id": "b54efbb1",
   "metadata": {
    "hidden": true
   },
   "outputs": [
    {
     "data": {
      "text/plain": [
       "43.27979712595097"
      ]
     },
     "execution_count": 54,
     "metadata": {},
     "output_type": "execute_result"
    }
   ],
   "source": [
    "df6['Redações'].value_counts()[0]/df6.shape[0]*100 # >>>> 57.4668920822767\n",
    "\n",
    "df6['Vídeos'].value_counts()[0]/df6.shape[0]*100 # >>>> 28.585517047055507\n",
    "\n",
    "df6['Questões'].value_counts()[0]/df6.shape[0]*100 # >>>> 24.344885883347423\n",
    "\n",
    "df6['Simulados'].value_counts()[0]/df6.shape[0]*100 # >>>> 53.46576500422654\n",
    "\n",
    "df6['Logins'].value_counts()[0]/df6.shape[0]*100 # >>>> 43.27979712595097"
   ]
  },
  {
   "cell_type": "code",
   "execution_count": null,
   "id": "50792fd8",
   "metadata": {
    "hidden": true
   },
   "outputs": [],
   "source": []
  },
  {
   "cell_type": "code",
   "execution_count": null,
   "id": "a2ddc8df",
   "metadata": {
    "hidden": true
   },
   "outputs": [],
   "source": []
  }
 ],
 "metadata": {
  "kernelspec": {
   "display_name": "Python 3 (ipykernel)",
   "language": "python",
   "name": "python3"
  },
  "language_info": {
   "codemirror_mode": {
    "name": "ipython",
    "version": 3
   },
   "file_extension": ".py",
   "mimetype": "text/x-python",
   "name": "python",
   "nbconvert_exporter": "python",
   "pygments_lexer": "ipython3",
   "version": "3.8.12"
  },
  "toc": {
   "base_numbering": 1,
   "nav_menu": {},
   "number_sections": true,
   "sideBar": true,
   "skip_h1_title": false,
   "title_cell": "Table of Contents",
   "title_sidebar": "Contents",
   "toc_cell": false,
   "toc_position": {},
   "toc_section_display": true,
   "toc_window_display": false
  }
 },
 "nbformat": 4,
 "nbformat_minor": 5
}
