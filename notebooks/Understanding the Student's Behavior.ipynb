{
 "cells": [
  {
   "cell_type": "markdown",
   "id": "f7cbd913",
   "metadata": {},
   "source": [
    "# Libraries Imports"
   ]
  },
  {
   "cell_type": "code",
   "execution_count": 1,
   "id": "aee7a328",
   "metadata": {},
   "outputs": [],
   "source": [
    "import pandas as pd\n",
    "import datetime\n",
    "import matplotlib.pyplot as plt"
   ]
  },
  {
   "cell_type": "markdown",
   "id": "71b0d82e",
   "metadata": {},
   "source": [
    "# Importing the Dataset"
   ]
  },
  {
   "cell_type": "code",
   "execution_count": 2,
   "id": "6a91b981",
   "metadata": {},
   "outputs": [
    {
     "data": {
      "text/html": [
       "<div>\n",
       "<style scoped>\n",
       "    .dataframe tbody tr th:only-of-type {\n",
       "        vertical-align: middle;\n",
       "    }\n",
       "\n",
       "    .dataframe tbody tr th {\n",
       "        vertical-align: top;\n",
       "    }\n",
       "\n",
       "    .dataframe thead th {\n",
       "        text-align: right;\n",
       "    }\n",
       "</style>\n",
       "<table border=\"1\" class=\"dataframe\">\n",
       "  <thead>\n",
       "    <tr style=\"text-align: right;\">\n",
       "      <th></th>\n",
       "      <th>ID Aluno</th>\n",
       "      <th>Turma</th>\n",
       "      <th>Plano</th>\n",
       "      <th>Faixa</th>\n",
       "      <th>Redações</th>\n",
       "      <th>Vídeos</th>\n",
       "      <th>Questões</th>\n",
       "      <th>Data Matr.</th>\n",
       "      <th>Simulados</th>\n",
       "      <th>Tutor</th>\n",
       "      <th>Logins</th>\n",
       "      <th>Perfil</th>\n",
       "      <th>Data Cancel.</th>\n",
       "      <th>Data Nasc.</th>\n",
       "      <th>Acesso até</th>\n",
       "    </tr>\n",
       "  </thead>\n",
       "  <tbody>\n",
       "    <tr>\n",
       "      <th>0</th>\n",
       "      <td>95738</td>\n",
       "      <td>Medicina 2020</td>\n",
       "      <td>MONTHLY</td>\n",
       "      <td>Faixa Branca Grau III</td>\n",
       "      <td>0</td>\n",
       "      <td>1</td>\n",
       "      <td>0</td>\n",
       "      <td>04/04/2017 05:40:09</td>\n",
       "      <td>1</td>\n",
       "      <td>COM TUTOR</td>\n",
       "      <td>1</td>\n",
       "      <td>Exclusivo</td>\n",
       "      <td>NaN</td>\n",
       "      <td>NaN</td>\n",
       "      <td>18/03/2020 02:59:59</td>\n",
       "    </tr>\n",
       "    <tr>\n",
       "      <th>1</th>\n",
       "      <td>112701</td>\n",
       "      <td>Medicina 2020</td>\n",
       "      <td>MONTHLY</td>\n",
       "      <td>Faixa Preta Grau III</td>\n",
       "      <td>0</td>\n",
       "      <td>9</td>\n",
       "      <td>124</td>\n",
       "      <td>07/11/2017 14:06:36</td>\n",
       "      <td>1</td>\n",
       "      <td>COM TUTOR</td>\n",
       "      <td>4</td>\n",
       "      <td>Exclusivo</td>\n",
       "      <td>NaN</td>\n",
       "      <td>05/02/1984 00:00:00</td>\n",
       "      <td>31/12/2031 02:59:59</td>\n",
       "    </tr>\n",
       "    <tr>\n",
       "      <th>2</th>\n",
       "      <td>112702</td>\n",
       "      <td>Medicina 2020</td>\n",
       "      <td>MONTHLY</td>\n",
       "      <td>Faixa Verde Grau II</td>\n",
       "      <td>2</td>\n",
       "      <td>74</td>\n",
       "      <td>1359</td>\n",
       "      <td>07/11/2017 15:43:33</td>\n",
       "      <td>4</td>\n",
       "      <td>COM TUTOR</td>\n",
       "      <td>86</td>\n",
       "      <td>Exclusivo</td>\n",
       "      <td>NaN</td>\n",
       "      <td>19/07/1980 00:00:00</td>\n",
       "      <td>30/12/2029 15:00:00</td>\n",
       "    </tr>\n",
       "    <tr>\n",
       "      <th>3</th>\n",
       "      <td>120504</td>\n",
       "      <td>ITA e IME 2020</td>\n",
       "      <td>FULL</td>\n",
       "      <td>Faixa Branca Grau I</td>\n",
       "      <td>0</td>\n",
       "      <td>24</td>\n",
       "      <td>64</td>\n",
       "      <td>27/09/2019 00:00:00</td>\n",
       "      <td>4</td>\n",
       "      <td>COM TUTOR</td>\n",
       "      <td>5</td>\n",
       "      <td>Exclusivo</td>\n",
       "      <td>20/02/2020 02:59:59</td>\n",
       "      <td>07/04/2002 00:00:00</td>\n",
       "      <td>24/12/2020 15:00:00</td>\n",
       "    </tr>\n",
       "    <tr>\n",
       "      <th>4</th>\n",
       "      <td>120759</td>\n",
       "      <td>ITA e IME 2020</td>\n",
       "      <td>FULL</td>\n",
       "      <td>Faixa Verde Grau I</td>\n",
       "      <td>17</td>\n",
       "      <td>1166</td>\n",
       "      <td>1598</td>\n",
       "      <td>18/08/2019 00:00:00</td>\n",
       "      <td>2</td>\n",
       "      <td>COM TUTOR</td>\n",
       "      <td>237</td>\n",
       "      <td>Exclusivo</td>\n",
       "      <td>NaN</td>\n",
       "      <td>05/12/2001 00:00:00</td>\n",
       "      <td>22/02/2021 02:59:59</td>\n",
       "    </tr>\n",
       "  </tbody>\n",
       "</table>\n",
       "</div>"
      ],
      "text/plain": [
       "   ID Aluno           Turma    Plano                  Faixa  Redações  Vídeos  \\\n",
       "0     95738   Medicina 2020  MONTHLY  Faixa Branca Grau III         0       1   \n",
       "1    112701   Medicina 2020  MONTHLY   Faixa Preta Grau III         0       9   \n",
       "2    112702   Medicina 2020  MONTHLY    Faixa Verde Grau II         2      74   \n",
       "3    120504  ITA e IME 2020     FULL    Faixa Branca Grau I         0      24   \n",
       "4    120759  ITA e IME 2020     FULL     Faixa Verde Grau I        17    1166   \n",
       "\n",
       "   Questões           Data Matr.  Simulados      Tutor  Logins     Perfil  \\\n",
       "0         0  04/04/2017 05:40:09          1  COM TUTOR       1  Exclusivo   \n",
       "1       124  07/11/2017 14:06:36          1  COM TUTOR       4  Exclusivo   \n",
       "2      1359  07/11/2017 15:43:33          4  COM TUTOR      86  Exclusivo   \n",
       "3        64  27/09/2019 00:00:00          4  COM TUTOR       5  Exclusivo   \n",
       "4      1598  18/08/2019 00:00:00          2  COM TUTOR     237  Exclusivo   \n",
       "\n",
       "          Data Cancel.           Data Nasc.           Acesso até  \n",
       "0                  NaN                  NaN  18/03/2020 02:59:59  \n",
       "1                  NaN  05/02/1984 00:00:00  31/12/2031 02:59:59  \n",
       "2                  NaN  19/07/1980 00:00:00  30/12/2029 15:00:00  \n",
       "3  20/02/2020 02:59:59  07/04/2002 00:00:00  24/12/2020 15:00:00  \n",
       "4                  NaN  05/12/2001 00:00:00  22/02/2021 02:59:59  "
      ]
     },
     "execution_count": 2,
     "metadata": {},
     "output_type": "execute_result"
    }
   ],
   "source": [
    "raw_data = pd.read_csv('../raw_data/raw_data.csv')\n",
    "raw_data.head(5)"
   ]
  },
  {
   "cell_type": "code",
   "execution_count": 3,
   "id": "a92e1017",
   "metadata": {},
   "outputs": [
    {
     "name": "stdout",
     "output_type": "stream",
     "text": [
      "<class 'pandas.core.frame.DataFrame'>\n",
      "RangeIndex: 27498 entries, 0 to 27497\n",
      "Data columns (total 15 columns):\n",
      " #   Column        Non-Null Count  Dtype \n",
      "---  ------        --------------  ----- \n",
      " 0   ID Aluno      27498 non-null  int64 \n",
      " 1   Turma         27498 non-null  object\n",
      " 2   Plano         27498 non-null  object\n",
      " 3   Faixa         27498 non-null  object\n",
      " 4   Redações      27498 non-null  int64 \n",
      " 5   Vídeos        27498 non-null  int64 \n",
      " 6   Questões      27498 non-null  int64 \n",
      " 7   Data Matr.    27058 non-null  object\n",
      " 8   Simulados     27498 non-null  int64 \n",
      " 9   Tutor         27498 non-null  object\n",
      " 10  Logins        27498 non-null  int64 \n",
      " 11  Perfil        27498 non-null  object\n",
      " 12  Data Cancel.  4001 non-null   object\n",
      " 13  Data Nasc.    11315 non-null  object\n",
      " 14  Acesso até    27498 non-null  object\n",
      "dtypes: int64(6), object(9)\n",
      "memory usage: 3.1+ MB\n"
     ]
    }
   ],
   "source": [
    "df = raw_data.copy()\n",
    "df.info()"
   ]
  },
  {
   "cell_type": "markdown",
   "id": "f95f1d2b",
   "metadata": {},
   "source": [
    "# Student Profile"
   ]
  },
  {
   "cell_type": "code",
   "execution_count": 4,
   "id": "f3837045",
   "metadata": {},
   "outputs": [],
   "source": [
    "df3 = df.copy()"
   ]
  },
  {
   "cell_type": "markdown",
   "id": "42a05489",
   "metadata": {
    "heading_collapsed": true
   },
   "source": [
    "## Turma"
   ]
  },
  {
   "cell_type": "code",
   "execution_count": 5,
   "id": "dacf2392",
   "metadata": {
    "hidden": true
   },
   "outputs": [],
   "source": [
    "df_turma = df3.copy()"
   ]
  },
  {
   "cell_type": "code",
   "execution_count": 6,
   "id": "14ae88b9",
   "metadata": {
    "hidden": true
   },
   "outputs": [
    {
     "data": {
      "text/plain": [
       "Medicina e Extensivo 2019             32.675104\n",
       "ITA e IME 2019                        18.466798\n",
       "Semiextensivo 18                      14.306495\n",
       "Extensivo Medicina 2021               10.269838\n",
       "Medicina 2020                          8.087861\n",
       "ITA e IME 2020                         5.291294\n",
       "Extensivo ITA/IME 2021                 4.156666\n",
       "Intensivo 2018                         1.898320\n",
       "Extensivo 18                           1.243727\n",
       "Semiextensivo Medicina 2019            1.196451\n",
       "Intensivo 2019                         1.130991\n",
       "SEMIEXTENSIVO - TURMA MED 2020         0.956433\n",
       "Intensivo ITA-IME 2021                 0.181831\n",
       "SEMIEXTENSIVO - TURMA ITA/IME 2020     0.138192\n",
       "Name: Turma, dtype: float64"
      ]
     },
     "execution_count": 6,
     "metadata": {},
     "output_type": "execute_result"
    }
   ],
   "source": [
    "#Checking the % of students by class/interest\n",
    "df_turma['Turma'].value_counts()/df.shape[0]*100"
   ]
  },
  {
   "cell_type": "code",
   "execution_count": 7,
   "id": "b791a994",
   "metadata": {
    "hidden": true
   },
   "outputs": [
    {
     "data": {
      "text/plain": [
       "['Med. Ext. 19', 'ITA IME 19', 'Semiext. 18', 'Ext. Med. 21', 'Med. 20']"
      ]
     },
     "execution_count": 7,
     "metadata": {},
     "output_type": "execute_result"
    }
   ],
   "source": [
    "#turmas = sorted(df_turma['Turma'].unique())\n",
    "#turmas\n",
    "\n",
    "turmas_top5 = ['Med. Ext. 19', 'ITA IME 19', 'Semiext. 18', 'Ext. Med. 21', 'Med. 20']\n",
    "turmas_top5\n",
    "\n",
    "#turmas_alunos = [df_turma['Turma'].value_counts()[a] for a in range(0,5)]\n",
    "#turmas_alunos"
   ]
  },
  {
   "cell_type": "code",
   "execution_count": 8,
   "id": "4bbf2296",
   "metadata": {
    "hidden": true
   },
   "outputs": [
    {
     "ename": "NameError",
     "evalue": "name 'turmas_alunos' is not defined",
     "output_type": "error",
     "traceback": [
      "\u001b[0;31m---------------------------------------------------------------------------\u001b[0m",
      "\u001b[0;31mNameError\u001b[0m                                 Traceback (most recent call last)",
      "\u001b[0;32m/tmp/ipykernel_590/210103464.py\u001b[0m in \u001b[0;36m<module>\u001b[0;34m\u001b[0m\n\u001b[0;32m----> 1\u001b[0;31m \u001b[0mplt\u001b[0m\u001b[0;34m.\u001b[0m\u001b[0mbar\u001b[0m\u001b[0;34m(\u001b[0m\u001b[0mturmas_top5\u001b[0m\u001b[0;34m,\u001b[0m \u001b[0mturmas_alunos\u001b[0m\u001b[0;34m,\u001b[0m \u001b[0mwidth\u001b[0m\u001b[0;34m=\u001b[0m\u001b[0;36m0.8\u001b[0m\u001b[0;34m)\u001b[0m\u001b[0;34m;\u001b[0m\u001b[0;34m\u001b[0m\u001b[0;34m\u001b[0m\u001b[0m\n\u001b[0m\u001b[1;32m      2\u001b[0m \u001b[0mplt\u001b[0m\u001b[0;34m.\u001b[0m\u001b[0mtitle\u001b[0m\u001b[0;34m(\u001b[0m\u001b[0;34m'Turmas'\u001b[0m\u001b[0;34m)\u001b[0m\u001b[0;34m;\u001b[0m\u001b[0;34m\u001b[0m\u001b[0;34m\u001b[0m\u001b[0m\n\u001b[1;32m      3\u001b[0m \u001b[0mplt\u001b[0m\u001b[0;34m.\u001b[0m\u001b[0mylabel\u001b[0m\u001b[0;34m(\u001b[0m\u001b[0;34m'Number of Students'\u001b[0m\u001b[0;34m)\u001b[0m\u001b[0;34m;\u001b[0m\u001b[0;34m\u001b[0m\u001b[0;34m\u001b[0m\u001b[0m\n\u001b[1;32m      4\u001b[0m \u001b[0mplt\u001b[0m\u001b[0;34m.\u001b[0m\u001b[0mxlabel\u001b[0m\u001b[0;34m(\u001b[0m\u001b[0;34m'Top 5 Courses'\u001b[0m\u001b[0;34m)\u001b[0m\u001b[0;34m;\u001b[0m\u001b[0;34m\u001b[0m\u001b[0;34m\u001b[0m\u001b[0m\n",
      "\u001b[0;31mNameError\u001b[0m: name 'turmas_alunos' is not defined"
     ]
    }
   ],
   "source": [
    "plt.bar(turmas_top5, turmas_alunos, width=0.8);\n",
    "plt.title('Turmas');\n",
    "plt.ylabel('Number of Students');\n",
    "plt.xlabel('Top 5 Courses');"
   ]
  },
  {
   "cell_type": "markdown",
   "id": "707da911",
   "metadata": {
    "hidden": true
   },
   "source": [
    "More than **50%** of the students are enrolled on prep courses for **Medicina e Extensivo 2019** and **ITA e IME 2019**."
   ]
  },
  {
   "cell_type": "code",
   "execution_count": null,
   "id": "3acf24a2",
   "metadata": {
    "hidden": true
   },
   "outputs": [],
   "source": [
    "df_turma['Data Matr.'] = pd.to_datetime(df_turma['Data Matr.'])"
   ]
  },
  {
   "cell_type": "code",
   "execution_count": null,
   "id": "841b7610",
   "metadata": {
    "hidden": true
   },
   "outputs": [],
   "source": [
    "df_turma['Year_Enrollment'] = ''\n",
    "\n",
    "for i in range(0, df_turma.shape[0]):\n",
    "    df_turma['Year_Enrollment'][i] = df_turma['Data Matr.'][i].year"
   ]
  },
  {
   "cell_type": "code",
   "execution_count": null,
   "id": "364728b7",
   "metadata": {
    "hidden": true
   },
   "outputs": [],
   "source": [
    "#Checking the values\n",
    "df_turma['Year_Enrollment'].unique() # >>> array(['2017', '2019', '2020', '2021', '2016', 'nan', '2018'], dtype=object)\n",
    "\n",
    "#Dropping null values\n",
    "df_turma = df_turma.dropna(subset=['Year_Enrollment'])\n",
    "\n",
    "#Changing the values to strings\n",
    "df_turma['Year_Enrollment'] = df_turma['Year_Enrollment'].astype(str)"
   ]
  },
  {
   "cell_type": "markdown",
   "id": "11a1316d",
   "metadata": {
    "heading_collapsed": true,
    "hidden": true
   },
   "source": [
    "### Medicina e Extensivo 2019"
   ]
  },
  {
   "cell_type": "code",
   "execution_count": null,
   "id": "344db7eb",
   "metadata": {
    "hidden": true
   },
   "outputs": [],
   "source": [
    "df_med_ext_2019 = df_turma[df_turma['Turma'] == 'Medicina e Extensivo 2019']\n",
    "\n",
    "#Getting the years of enrollment\n",
    "years = sorted(df_med_ext_2019['Year_Enrollment'].unique()) # >>> ['2017', '2018', '2019']\n",
    "\n",
    "#Getting the number of years\n",
    "heights = [(df_med_ext_2019['Year_Enrollment'] == y).sum() for y in years] # >>> [8, 1453, 7508]"
   ]
  },
  {
   "cell_type": "code",
   "execution_count": null,
   "id": "e15c0c79",
   "metadata": {
    "hidden": true,
    "scrolled": true
   },
   "outputs": [],
   "source": [
    "plt.bar(years, heights, width=1);\n",
    "plt.title('Enrollment Years - Medicina e Extensivo 2019');\n",
    "plt.ylabel('Number of Students');\n",
    "plt.xlabel('Year');"
   ]
  },
  {
   "cell_type": "markdown",
   "id": "2de04054",
   "metadata": {
    "heading_collapsed": true,
    "hidden": true
   },
   "source": [
    "### ITA e IME 2019"
   ]
  },
  {
   "cell_type": "code",
   "execution_count": null,
   "id": "b9a1f879",
   "metadata": {
    "hidden": true
   },
   "outputs": [],
   "source": [
    "df_ita_ime_2019 = df_turma[df_turma['Turma'] == 'ITA e IME 2019']\n",
    "\n",
    "#Getting the years of enrollment\n",
    "years = sorted(df_ita_ime_2019['Year_Enrollment'].unique()) # >>> ['2017', '2018', '2019']\n",
    "\n",
    "#Getting the number of years\n",
    "heights = [(df_ita_ime_2019['Year_Enrollment'] == y).sum() for y in years] # >>> [8, 936, 4115]"
   ]
  },
  {
   "cell_type": "code",
   "execution_count": null,
   "id": "9f544a99",
   "metadata": {
    "hidden": true
   },
   "outputs": [],
   "source": [
    "plt.bar(years, heights, width=1);\n",
    "plt.title('Enrollment Years - ITA e IME 2019');\n",
    "plt.ylabel('Number of Students');\n",
    "plt.xlabel('Year');"
   ]
  },
  {
   "cell_type": "markdown",
   "id": "9ce0eb78",
   "metadata": {
    "heading_collapsed": true
   },
   "source": [
    "## Plano"
   ]
  },
  {
   "cell_type": "code",
   "execution_count": null,
   "id": "a88d9762",
   "metadata": {
    "hidden": true
   },
   "outputs": [],
   "source": [
    "#Checking the % of students by payment plan\n",
    "df3['Plano'].value_counts()/df.shape[0]*100"
   ]
  },
  {
   "cell_type": "code",
   "execution_count": null,
   "id": "c3066ff3",
   "metadata": {
    "hidden": true
   },
   "outputs": [],
   "source": [
    "#Getting the plan types\n",
    "plans = sorted(df3['Plano'].unique()) # >>> ['FULL', 'MONTHLY']\n",
    "\n",
    "#Getting the number of students per plan\n",
    "plans_students = [(df3['Plano'] == p).sum() for p in plans] # >>> [25459, 2039]"
   ]
  },
  {
   "cell_type": "code",
   "execution_count": null,
   "id": "da0a9a20",
   "metadata": {
    "hidden": true
   },
   "outputs": [],
   "source": [
    "plt.bar(plans, plans_students, width=1);\n",
    "plt.title('Payment Plans');\n",
    "plt.ylabel('Number of Students');\n",
    "plt.xlabel('Plan Type');"
   ]
  },
  {
   "cell_type": "code",
   "execution_count": null,
   "id": "5324cc0f",
   "metadata": {
    "hidden": true
   },
   "outputs": [],
   "source": [
    "plt.pie(plans_students, labels=plans, labeldistance=1.1);"
   ]
  },
  {
   "cell_type": "markdown",
   "id": "55a00260",
   "metadata": {
    "hidden": true
   },
   "source": [
    "More than 90% of the students have chosen the **Full** plan, which means: A)they are pretty sure of their choices, or; B)the payment conditions were more attractive."
   ]
  },
  {
   "cell_type": "markdown",
   "id": "8abfcae2",
   "metadata": {
    "heading_collapsed": true
   },
   "source": [
    "## Faixa"
   ]
  },
  {
   "cell_type": "code",
   "execution_count": null,
   "id": "c7735c82",
   "metadata": {
    "hidden": true
   },
   "outputs": [],
   "source": [
    "#Checking the % of students by belt\n",
    "df3['Faixa'].value_counts()/df.shape[0]*100"
   ]
  },
  {
   "cell_type": "markdown",
   "id": "c3ea1a3d",
   "metadata": {
    "hidden": true
   },
   "source": [
    "Almost 80% of the students are classified as **Faixa Branca Grau I**, which probably means an entry-level."
   ]
  },
  {
   "cell_type": "markdown",
   "id": "e1f4f725",
   "metadata": {
    "heading_collapsed": true
   },
   "source": [
    "## Tutor"
   ]
  },
  {
   "cell_type": "code",
   "execution_count": null,
   "id": "4806ff0f",
   "metadata": {
    "hidden": true
   },
   "outputs": [],
   "source": [
    "#Checking the % of students by Tutor\n",
    "df3['Tutor'].value_counts()/df.shape[0]*100"
   ]
  },
  {
   "cell_type": "code",
   "execution_count": null,
   "id": "31d8117d",
   "metadata": {
    "hidden": true
   },
   "outputs": [],
   "source": [
    "#Getting the tutor choices\n",
    "tutors = sorted(df3['Tutor'].unique()) # >>> ['COM TUTOR', 'SEM TUTOR']\n",
    "\n",
    "#Getting the number of students per plan\n",
    "tutors_students = [(df3['Tutor'] == p).sum() for p in tutors] # >>> [7098, 20400]"
   ]
  },
  {
   "cell_type": "code",
   "execution_count": null,
   "id": "bacd212b",
   "metadata": {
    "hidden": true
   },
   "outputs": [],
   "source": [
    "plt.pie(tutors_students, labels=tutors, labeldistance=1.1);"
   ]
  },
  {
   "cell_type": "markdown",
   "id": "2cd6eecd",
   "metadata": {
    "hidden": true
   },
   "source": [
    "Almost 75% of the students have chosen a path **without a Tutor**."
   ]
  },
  {
   "cell_type": "markdown",
   "id": "cb3edde8",
   "metadata": {
    "heading_collapsed": true
   },
   "source": [
    "## Perfil"
   ]
  },
  {
   "cell_type": "code",
   "execution_count": null,
   "id": "55ec08d2",
   "metadata": {
    "hidden": true
   },
   "outputs": [],
   "source": [
    "#Checking the % of students by Profile\n",
    "df3['Perfil'].value_counts()/df.shape[0]*100"
   ]
  },
  {
   "cell_type": "code",
   "execution_count": null,
   "id": "f32b2111",
   "metadata": {
    "hidden": true
   },
   "outputs": [],
   "source": [
    "#Getting the profile types\n",
    "profile = sorted(df3['Perfil'].unique()) # >>> ['Consulta', 'Exclusivo', 'Parcial']\n",
    "\n",
    "#Getting the number of students per profile\n",
    "profile_students = [(df3['Perfil'] == p).sum() for p in profile] # >>> [473, 24790, 2235]"
   ]
  },
  {
   "cell_type": "code",
   "execution_count": null,
   "id": "5942599b",
   "metadata": {
    "hidden": true
   },
   "outputs": [],
   "source": [
    "plt.bar(profile, profile_students, width=1);\n",
    "plt.title('Profile Types');\n",
    "plt.ylabel('Number of Students');\n",
    "plt.xlabel('Profile Type');"
   ]
  },
  {
   "cell_type": "code",
   "execution_count": null,
   "id": "e5d3a7d4",
   "metadata": {
    "hidden": true
   },
   "outputs": [],
   "source": [
    "plt.pie(profile_students, labels=profile, labeldistance=1.1);"
   ]
  },
  {
   "cell_type": "markdown",
   "id": "54722825",
   "metadata": {
    "hidden": true
   },
   "source": [
    "More than 90% of the students have chosen the **Exclusive** plan. Probably it's related to the level of access they want to have."
   ]
  },
  {
   "cell_type": "markdown",
   "id": "1823cd18",
   "metadata": {
    "heading_collapsed": true
   },
   "source": [
    "## Data de Nascimento"
   ]
  },
  {
   "cell_type": "code",
   "execution_count": null,
   "id": "9174b98d",
   "metadata": {
    "hidden": true
   },
   "outputs": [],
   "source": [
    "#Checking birth dates >>>> too much null values +58% >>>> not reliable >>>> 58.85155284020656\n",
    "df3['Data Nasc.'].isnull().sum()/df.shape[0]*100"
   ]
  },
  {
   "cell_type": "markdown",
   "id": "51e0ddaa",
   "metadata": {
    "hidden": true
   },
   "source": [
    "Since almost 60% of the birth dates are **null**, it doesn't seems a good feature to be used as a profile maker. "
   ]
  },
  {
   "cell_type": "markdown",
   "id": "f0bb3a6c",
   "metadata": {
    "heading_collapsed": true
   },
   "source": [
    "## Conclusion"
   ]
  },
  {
   "cell_type": "markdown",
   "id": "c7e74447",
   "metadata": {
    "hidden": true
   },
   "source": [
    "**What's the general profile of the students?**"
   ]
  },
  {
   "cell_type": "markdown",
   "id": "ca971997",
   "metadata": {
    "hidden": true
   },
   "source": [
    "**IN SUMMARY**\n",
    "\n",
    "We could assume the standard student has a focus on highly competitive courses, which matches the school slogan!\n",
    "\n",
    "They mostly enroll on the course at the very year of the tests, however we do see a small amount of students who enroll a year or two before the tests.\n",
    "\n",
    "The preferred payment option is FULL, with EXCLUSIVE access to available materials and WITHOUT the support of a Tutor. Maybe the students don't see this extra feature as worthy due to its cost."
   ]
  },
  {
   "cell_type": "markdown",
   "id": "4e45e9ff",
   "metadata": {},
   "source": [
    "# Student Engagement"
   ]
  },
  {
   "cell_type": "code",
   "execution_count": null,
   "id": "2bde968a",
   "metadata": {},
   "outputs": [],
   "source": [
    "df4 = df.copy()"
   ]
  },
  {
   "cell_type": "code",
   "execution_count": null,
   "id": "f04f5595",
   "metadata": {},
   "outputs": [],
   "source": [
    "#Checking the % of students who have done ZERO Simulados >>> 78.87482726016437\n",
    "df4['Simulados'].value_counts()[0]/df.shape[0]*100\n",
    "\n",
    "#Checking the % of students who have done ZERO Redações >>> 79.8094406865954\n",
    "df4['Redações'].value_counts()[0]/df.shape[0]*100\n",
    "\n",
    "#Checking the % of students who have watched ZERO Vídeos >>> 60.27347443450432\n",
    "df4['Vídeos'].value_counts()[0]/df.shape[0]*100\n",
    "\n",
    "#Checking the % of students who have done ZERO Questions >>> 55.63677358353335\n",
    "df4['Questões'].value_counts()[0]/df.shape[0]*100\n",
    "\n",
    "#Checking the % of students who have done ZERO Logins >>> 67.41217543094044\n",
    "df4['Logins'].value_counts()[0]/df.shape[0]*100"
   ]
  },
  {
   "cell_type": "code",
   "execution_count": null,
   "id": "35f55827",
   "metadata": {},
   "outputs": [],
   "source": [
    "plt.figure(figsize=(22, 3))\n",
    "plt.subplot(1, 5, 1)\n",
    "plt.hist(df4['Redações'], bins=30);\n",
    "plt.title('Redações');\n",
    "plt.xlabel('Amount performed');\n",
    "plt.ylabel('Number of Students');\n",
    "plt.subplot(1, 5, 2)\n",
    "plt.hist(df4['Vídeos'], bins=30);\n",
    "plt.title('Vídeos');\n",
    "plt.xlabel('Amount performed');\n",
    "plt.subplot(1, 5, 3)\n",
    "plt.hist(df4['Questões'], bins=30);\n",
    "plt.title('Questões');\n",
    "plt.xlabel('Amount performed');\n",
    "plt.subplot(1, 5, 4)\n",
    "plt.hist(df4['Simulados'], bins=30);\n",
    "plt.title('Simulados');\n",
    "plt.xlabel('Amount performed');\n",
    "plt.subplot(1, 5, 5)\n",
    "plt.hist(df4['Logins'], bins=30);\n",
    "plt.title('Logins');\n",
    "plt.xlabel('Amount performed');"
   ]
  },
  {
   "cell_type": "markdown",
   "id": "2e1e651e",
   "metadata": {},
   "source": [
    "**Considering the school methods, are the students engaged? How can we define engagement?**"
   ]
  },
  {
   "cell_type": "markdown",
   "id": "1b115a8e",
   "metadata": {},
   "source": [
    "Apparently **NOT**! If we consider engagement as the rate of activities the students perform after classes, we can clearly see there's not much activities being done outside the class!\n",
    "\n",
    "The less worst activity done by the students (Questions) had an **absence rate over 50%**. "
   ]
  },
  {
   "cell_type": "markdown",
   "id": "c4673e04",
   "metadata": {},
   "source": [
    "# Student Churn"
   ]
  },
  {
   "cell_type": "code",
   "execution_count": null,
   "id": "c4b952e4",
   "metadata": {},
   "outputs": [],
   "source": [
    "df5 = df.copy()"
   ]
  },
  {
   "cell_type": "code",
   "execution_count": null,
   "id": "3dc82362",
   "metadata": {},
   "outputs": [],
   "source": [
    "#Checking general churn rates >>>> less than 15% >>>> -14.55014910175285\n",
    "(df5['Data Cancel.'].isnull().sum()/df.shape[0]-1)*100"
   ]
  },
  {
   "cell_type": "code",
   "execution_count": null,
   "id": "467a5f27",
   "metadata": {},
   "outputs": [],
   "source": [
    "df5 = df5.dropna(subset=['Data Cancel.'])\n",
    "df5.reset_index(drop=True, inplace=True)"
   ]
  },
  {
   "cell_type": "code",
   "execution_count": null,
   "id": "51caba12",
   "metadata": {},
   "outputs": [],
   "source": [
    "df5['Data Cancel.'] = pd.to_datetime(df5['Data Cancel.'])\n",
    "df5['Data Matr.'] = pd.to_datetime(df5['Data Matr.'])\n",
    "df5['Delta'] = df5['Data Cancel.'] - df5['Data Matr.']\n",
    "\n",
    "#df5['Data Cancel.'] = df5['Data Cancel.'].astype('datetime64[ns]')\n",
    "#df5['Data Matr.'] = df5['Data Matr.'].astype('datetime64[ns]')"
   ]
  },
  {
   "cell_type": "code",
   "execution_count": null,
   "id": "2fae4d07",
   "metadata": {},
   "outputs": [],
   "source": [
    "df5['Days'] = ''"
   ]
  },
  {
   "cell_type": "code",
   "execution_count": null,
   "id": "9fa657c7",
   "metadata": {},
   "outputs": [],
   "source": [
    "for i in range(0, df5.shape[0]):\n",
    "    df5['Days'][i] = df5['Delta'][i].days\n",
    "\n",
    "df5.drop(columns={'Delta', 'ID Aluno'}, inplace=True)"
   ]
  },
  {
   "cell_type": "code",
   "execution_count": null,
   "id": "afb9281a",
   "metadata": {},
   "outputs": [],
   "source": [
    "#680 records were incorrectly filled, so they won't be eligible for evaluation\n",
    "df5[df5['Days'] < 0]"
   ]
  },
  {
   "cell_type": "code",
   "execution_count": null,
   "id": "ff623c29",
   "metadata": {},
   "outputs": [],
   "source": [
    "df5.drop(df5[(df5['Days'] < 0)].index, inplace=True)"
   ]
  },
  {
   "cell_type": "markdown",
   "id": "0548d500",
   "metadata": {
    "heading_collapsed": true
   },
   "source": [
    "## Over 30 days"
   ]
  },
  {
   "cell_type": "code",
   "execution_count": null,
   "id": "71e5cfe0",
   "metadata": {
    "hidden": true
   },
   "outputs": [],
   "source": [
    "df_over_30 = df5[df5['Days'] > 30]\n",
    "df_over_30.describe()"
   ]
  },
  {
   "cell_type": "code",
   "execution_count": null,
   "id": "bb1257ee",
   "metadata": {
    "hidden": true
   },
   "outputs": [],
   "source": [
    "days = [d for d in df_over_30['Days']]"
   ]
  },
  {
   "cell_type": "code",
   "execution_count": null,
   "id": "fd4d7f79",
   "metadata": {
    "hidden": true
   },
   "outputs": [],
   "source": [
    "#Checking the distribution of days until the cancelation\n",
    "plt.figure(figsize=(15, 5))\n",
    "plt.hist(days, bins=50);\n",
    "plt.title('Cancellations After 30 Days');\n",
    "plt.xlabel('Days');\n",
    "plt.ylabel('Number of Students');"
   ]
  },
  {
   "cell_type": "code",
   "execution_count": null,
   "id": "13938f3a",
   "metadata": {
    "hidden": true
   },
   "outputs": [],
   "source": [
    "df_over_30['Turma'].value_counts()"
   ]
  },
  {
   "cell_type": "code",
   "execution_count": null,
   "id": "6c8d71a1",
   "metadata": {
    "hidden": true
   },
   "outputs": [],
   "source": [
    "df_over_30['Tutor'].value_counts()/df_over_30.shape[0]*100"
   ]
  },
  {
   "cell_type": "code",
   "execution_count": null,
   "id": "e9b0101e",
   "metadata": {
    "hidden": true
   },
   "outputs": [],
   "source": [
    "df_over_30['Perfil'].value_counts()/df_over_30.shape[0]*100"
   ]
  },
  {
   "cell_type": "code",
   "execution_count": null,
   "id": "3e08eba0",
   "metadata": {
    "hidden": true
   },
   "outputs": [],
   "source": [
    "df_over_30['Faixa'].value_counts()"
   ]
  },
  {
   "cell_type": "code",
   "execution_count": null,
   "id": "d5729efc",
   "metadata": {
    "hidden": true
   },
   "outputs": [],
   "source": [
    "plt.figure(figsize=(20, 3))\n",
    "plt.subplot(1, 5, 1)\n",
    "plt.hist(df_over_30['Redações'], bins=30);\n",
    "plt.title('Redações');\n",
    "plt.subplot(1, 5, 2)\n",
    "plt.hist(df_over_30['Vídeos'], bins=30);\n",
    "plt.title('Vídeos');\n",
    "plt.subplot(1, 5, 3)\n",
    "plt.hist(df_over_30['Questões'], bins=30);\n",
    "plt.title('Questões');\n",
    "plt.subplot(1, 5, 4)\n",
    "plt.hist(df_over_30['Simulados'], bins=30);\n",
    "plt.title('Simulados');\n",
    "plt.subplot(1, 5, 5)\n",
    "plt.hist(df_over_30['Logins'], bins=30);\n",
    "plt.title('Logins');"
   ]
  },
  {
   "cell_type": "markdown",
   "id": "b5b75e8d",
   "metadata": {
    "hidden": true
   },
   "source": [
    "The majority of students who left the course after 30 days were enrolled on 2 of the most relevant courses (obviously this would happen due to its proportion). However, a similar amount of drop off students were enrolled on the same course, but for different years.\n",
    "\n",
    "One curious fact was that most of those students were having a Tutor's support (while the majority of students choose not to proceed with this condition). This could be a sign that the drop off students realized, along with their Tutors, that they were on the wrong path (maybe due to family pressure, maybe social values and expectation).\n",
    "\n",
    "The extra-curricular activities went by the same way: the majority of students did not perform them.\n",
    "\n",
    "The students didn't evolve during the process, once the highest amount of drop offs were still considered White Belts I."
   ]
  },
  {
   "cell_type": "markdown",
   "id": "86e1c9e1",
   "metadata": {},
   "source": [
    "## Under 14 days"
   ]
  },
  {
   "cell_type": "code",
   "execution_count": null,
   "id": "0677f46d",
   "metadata": {},
   "outputs": [],
   "source": [
    "df_under_14 = df5[df5['Days'] < 15]\n",
    "df_under_14.describe()"
   ]
  },
  {
   "cell_type": "code",
   "execution_count": null,
   "id": "f404191d",
   "metadata": {},
   "outputs": [],
   "source": [
    "days = [d for d in df_under_14['Days']]"
   ]
  },
  {
   "cell_type": "code",
   "execution_count": null,
   "id": "50646920",
   "metadata": {},
   "outputs": [],
   "source": [
    "#Checking the distribution of days until the cancelation\n",
    "plt.figure(figsize=(15, 5))\n",
    "plt.hist(days, bins=10);"
   ]
  },
  {
   "cell_type": "code",
   "execution_count": null,
   "id": "95b47ee8",
   "metadata": {},
   "outputs": [],
   "source": [
    "df_under_14['Turma'].value_counts()/df_under_14.shape[0]*100"
   ]
  },
  {
   "cell_type": "code",
   "execution_count": null,
   "id": "bc2df604",
   "metadata": {},
   "outputs": [],
   "source": [
    "df_under_14_med21 = df_under_14[df_under_14['Turma'] == 'Extensivo Medicina 2021']"
   ]
  },
  {
   "cell_type": "code",
   "execution_count": null,
   "id": "c56db700",
   "metadata": {},
   "outputs": [],
   "source": [
    "#df_under_14_med21['Tutor'].value_counts()\n",
    "#SEM TUTOR    71\n",
    "#COM TUTOR     1\n",
    "\n",
    "df_under_14_med21['Logins'].value_counts()"
   ]
  },
  {
   "cell_type": "code",
   "execution_count": null,
   "id": "d15a09b2",
   "metadata": {},
   "outputs": [],
   "source": [
    "df_under_14['Tutor'].value_counts()"
   ]
  },
  {
   "cell_type": "code",
   "execution_count": null,
   "id": "1b848573",
   "metadata": {},
   "outputs": [],
   "source": [
    "df_under_14['Perfil'].value_counts()"
   ]
  },
  {
   "cell_type": "code",
   "execution_count": null,
   "id": "9fbd84d2",
   "metadata": {},
   "outputs": [],
   "source": [
    "df_under_14['Faixa'].value_counts()"
   ]
  },
  {
   "cell_type": "code",
   "execution_count": null,
   "id": "556ce356",
   "metadata": {},
   "outputs": [],
   "source": [
    "plt.figure(figsize=(20, 3))\n",
    "plt.subplot(1, 5, 1)\n",
    "plt.hist(df_under_14['Redações'], bins=30);\n",
    "plt.title('Redações');\n",
    "plt.subplot(1, 5, 2)\n",
    "plt.hist(df_under_14['Vídeos'], bins=30);\n",
    "plt.title('Vídeos');\n",
    "plt.subplot(1, 5, 3)\n",
    "plt.hist(df_under_14['Questões'], bins=30);\n",
    "plt.title('Questões');\n",
    "plt.subplot(1, 5, 4)\n",
    "plt.hist(df_under_14['Simulados'], bins=30);\n",
    "plt.title('Simulados');\n",
    "plt.subplot(1, 5, 5)\n",
    "plt.hist(df_under_14['Logins'], bins=30);\n",
    "plt.title('Logins');"
   ]
  },
  {
   "cell_type": "markdown",
   "id": "28da76e3",
   "metadata": {},
   "source": [
    "The majority of students who left the course after 30 days were enrolled on 2 of the most relevant courses (obviously this would happen due to its proportion). However, a similar amount of drop off students were enrolled on the same course, but for different years.\n",
    "\n",
    "Regarding the Tutor choice, there wasn't any specific flags.\n",
    "\n",
    "The extra-curricular activities went by the same way: the majority of students did not perform them. However, we do see some outliers. probably some students who enrolled the course, downloaded everything he could on the first days and then requested the cancellation (but this profile is not significantly among the others).\n",
    "\n",
    "The students didn't evolve during the process, once the highest amount of drop offs were still considered White Belts I."
   ]
  },
  {
   "cell_type": "markdown",
   "id": "7a9dc6c9",
   "metadata": {},
   "source": [
    "# Tutor's Role"
   ]
  },
  {
   "cell_type": "code",
   "execution_count": null,
   "id": "a48b0366",
   "metadata": {},
   "outputs": [],
   "source": [
    "df6 = df.copy()"
   ]
  },
  {
   "cell_type": "code",
   "execution_count": null,
   "id": "32c60ed6",
   "metadata": {},
   "outputs": [],
   "source": [
    "df6 = df6[df6['Tutor'] == 'COM TUTOR']\n",
    "df6"
   ]
  },
  {
   "cell_type": "code",
   "execution_count": null,
   "id": "b54efbb1",
   "metadata": {},
   "outputs": [],
   "source": [
    "df6['Redações'].value_counts()[0]/df6.shape[0]*100 # >>>> 57.4668920822767\n",
    "\n",
    "df6['Vídeos'].value_counts()[0]/df6.shape[0]*100 # >>>> 28.585517047055507\n",
    "\n",
    "df6['Questões'].value_counts()[0]/df6.shape[0]*100 # >>>> 24.344885883347423\n",
    "\n",
    "df6['Simulados'].value_counts()[0]/df6.shape[0]*100 # >>>> 53.46576500422654\n",
    "\n",
    "df6['Logins'].value_counts()[0]/df6.shape[0]*100 # >>>> 43.27979712595097"
   ]
  },
  {
   "cell_type": "code",
   "execution_count": null,
   "id": "50792fd8",
   "metadata": {},
   "outputs": [],
   "source": []
  },
  {
   "cell_type": "code",
   "execution_count": null,
   "id": "a2ddc8df",
   "metadata": {},
   "outputs": [],
   "source": []
  }
 ],
 "metadata": {
  "kernelspec": {
   "display_name": "Python 3 (ipykernel)",
   "language": "python",
   "name": "python3"
  },
  "language_info": {
   "codemirror_mode": {
    "name": "ipython",
    "version": 3
   },
   "file_extension": ".py",
   "mimetype": "text/x-python",
   "name": "python",
   "nbconvert_exporter": "python",
   "pygments_lexer": "ipython3",
   "version": "3.8.12"
  },
  "toc": {
   "base_numbering": 1,
   "nav_menu": {},
   "number_sections": true,
   "sideBar": true,
   "skip_h1_title": false,
   "title_cell": "Table of Contents",
   "title_sidebar": "Contents",
   "toc_cell": false,
   "toc_position": {},
   "toc_section_display": true,
   "toc_window_display": false
  }
 },
 "nbformat": 4,
 "nbformat_minor": 5
}
