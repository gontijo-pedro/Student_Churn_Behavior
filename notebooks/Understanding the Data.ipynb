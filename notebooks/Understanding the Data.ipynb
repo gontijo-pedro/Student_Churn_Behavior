{
 "cells": [
  {
   "cell_type": "markdown",
   "id": "f7cbd913",
   "metadata": {},
   "source": [
    "# Libraries Imports"
   ]
  },
  {
   "cell_type": "code",
   "execution_count": 1,
   "id": "aee7a328",
   "metadata": {},
   "outputs": [],
   "source": [
    "import pandas as pd\n",
    "import datetime\n",
    "from datetime import date"
   ]
  },
  {
   "cell_type": "markdown",
   "id": "71b0d82e",
   "metadata": {
    "heading_collapsed": true
   },
   "source": [
    "# Importing the Dataset"
   ]
  },
  {
   "cell_type": "code",
   "execution_count": 2,
   "id": "6a91b981",
   "metadata": {
    "hidden": true,
    "scrolled": true
   },
   "outputs": [
    {
     "data": {
      "text/html": [
       "<div>\n",
       "<style scoped>\n",
       "    .dataframe tbody tr th:only-of-type {\n",
       "        vertical-align: middle;\n",
       "    }\n",
       "\n",
       "    .dataframe tbody tr th {\n",
       "        vertical-align: top;\n",
       "    }\n",
       "\n",
       "    .dataframe thead th {\n",
       "        text-align: right;\n",
       "    }\n",
       "</style>\n",
       "<table border=\"1\" class=\"dataframe\">\n",
       "  <thead>\n",
       "    <tr style=\"text-align: right;\">\n",
       "      <th></th>\n",
       "      <th>ID Aluno</th>\n",
       "      <th>Turma</th>\n",
       "      <th>Plano</th>\n",
       "      <th>Faixa</th>\n",
       "      <th>Redações</th>\n",
       "      <th>Vídeos</th>\n",
       "      <th>Questões</th>\n",
       "      <th>Data Matr.</th>\n",
       "      <th>Simulados</th>\n",
       "      <th>Tutor</th>\n",
       "      <th>Logins</th>\n",
       "      <th>Perfil</th>\n",
       "      <th>Data Cancel.</th>\n",
       "      <th>Data Nasc.</th>\n",
       "      <th>Acesso até</th>\n",
       "    </tr>\n",
       "  </thead>\n",
       "  <tbody>\n",
       "    <tr>\n",
       "      <th>0</th>\n",
       "      <td>95738</td>\n",
       "      <td>Medicina 2020</td>\n",
       "      <td>MONTHLY</td>\n",
       "      <td>Faixa Branca Grau III</td>\n",
       "      <td>0</td>\n",
       "      <td>1</td>\n",
       "      <td>0</td>\n",
       "      <td>04/04/2017 05:40:09</td>\n",
       "      <td>1</td>\n",
       "      <td>COM TUTOR</td>\n",
       "      <td>1</td>\n",
       "      <td>Exclusivo</td>\n",
       "      <td>NaN</td>\n",
       "      <td>NaN</td>\n",
       "      <td>18/03/2020 02:59:59</td>\n",
       "    </tr>\n",
       "    <tr>\n",
       "      <th>1</th>\n",
       "      <td>112701</td>\n",
       "      <td>Medicina 2020</td>\n",
       "      <td>MONTHLY</td>\n",
       "      <td>Faixa Preta Grau III</td>\n",
       "      <td>0</td>\n",
       "      <td>9</td>\n",
       "      <td>124</td>\n",
       "      <td>07/11/2017 14:06:36</td>\n",
       "      <td>1</td>\n",
       "      <td>COM TUTOR</td>\n",
       "      <td>4</td>\n",
       "      <td>Exclusivo</td>\n",
       "      <td>NaN</td>\n",
       "      <td>05/02/1984 00:00:00</td>\n",
       "      <td>31/12/2031 02:59:59</td>\n",
       "    </tr>\n",
       "    <tr>\n",
       "      <th>2</th>\n",
       "      <td>112702</td>\n",
       "      <td>Medicina 2020</td>\n",
       "      <td>MONTHLY</td>\n",
       "      <td>Faixa Verde Grau II</td>\n",
       "      <td>2</td>\n",
       "      <td>74</td>\n",
       "      <td>1359</td>\n",
       "      <td>07/11/2017 15:43:33</td>\n",
       "      <td>4</td>\n",
       "      <td>COM TUTOR</td>\n",
       "      <td>86</td>\n",
       "      <td>Exclusivo</td>\n",
       "      <td>NaN</td>\n",
       "      <td>19/07/1980 00:00:00</td>\n",
       "      <td>30/12/2029 15:00:00</td>\n",
       "    </tr>\n",
       "    <tr>\n",
       "      <th>3</th>\n",
       "      <td>120504</td>\n",
       "      <td>ITA e IME 2020</td>\n",
       "      <td>FULL</td>\n",
       "      <td>Faixa Branca Grau I</td>\n",
       "      <td>0</td>\n",
       "      <td>24</td>\n",
       "      <td>64</td>\n",
       "      <td>27/09/2019 00:00:00</td>\n",
       "      <td>4</td>\n",
       "      <td>COM TUTOR</td>\n",
       "      <td>5</td>\n",
       "      <td>Exclusivo</td>\n",
       "      <td>20/02/2020 02:59:59</td>\n",
       "      <td>07/04/2002 00:00:00</td>\n",
       "      <td>24/12/2020 15:00:00</td>\n",
       "    </tr>\n",
       "    <tr>\n",
       "      <th>4</th>\n",
       "      <td>120759</td>\n",
       "      <td>ITA e IME 2020</td>\n",
       "      <td>FULL</td>\n",
       "      <td>Faixa Verde Grau I</td>\n",
       "      <td>17</td>\n",
       "      <td>1166</td>\n",
       "      <td>1598</td>\n",
       "      <td>18/08/2019 00:00:00</td>\n",
       "      <td>2</td>\n",
       "      <td>COM TUTOR</td>\n",
       "      <td>237</td>\n",
       "      <td>Exclusivo</td>\n",
       "      <td>NaN</td>\n",
       "      <td>05/12/2001 00:00:00</td>\n",
       "      <td>22/02/2021 02:59:59</td>\n",
       "    </tr>\n",
       "    <tr>\n",
       "      <th>...</th>\n",
       "      <td>...</td>\n",
       "      <td>...</td>\n",
       "      <td>...</td>\n",
       "      <td>...</td>\n",
       "      <td>...</td>\n",
       "      <td>...</td>\n",
       "      <td>...</td>\n",
       "      <td>...</td>\n",
       "      <td>...</td>\n",
       "      <td>...</td>\n",
       "      <td>...</td>\n",
       "      <td>...</td>\n",
       "      <td>...</td>\n",
       "      <td>...</td>\n",
       "      <td>...</td>\n",
       "    </tr>\n",
       "    <tr>\n",
       "      <th>27493</th>\n",
       "      <td>143264</td>\n",
       "      <td>ITA e IME 2019</td>\n",
       "      <td>MONTHLY</td>\n",
       "      <td>Faixa Branca Grau I</td>\n",
       "      <td>0</td>\n",
       "      <td>0</td>\n",
       "      <td>0</td>\n",
       "      <td>5/12/2019 12:48:53</td>\n",
       "      <td>0</td>\n",
       "      <td>COM TUTOR</td>\n",
       "      <td>0</td>\n",
       "      <td>Exclusivo</td>\n",
       "      <td>NaN</td>\n",
       "      <td>20/12/2000 00:00:00</td>\n",
       "      <td>23/12/2019 15:00:00</td>\n",
       "    </tr>\n",
       "    <tr>\n",
       "      <th>27494</th>\n",
       "      <td>143265</td>\n",
       "      <td>Medicina e Extensivo 2019</td>\n",
       "      <td>MONTHLY</td>\n",
       "      <td>Faixa Branca Grau I</td>\n",
       "      <td>3</td>\n",
       "      <td>0</td>\n",
       "      <td>0</td>\n",
       "      <td>5/12/2019 13:32:17</td>\n",
       "      <td>0</td>\n",
       "      <td>COM TUTOR</td>\n",
       "      <td>6</td>\n",
       "      <td>Exclusivo</td>\n",
       "      <td>NaN</td>\n",
       "      <td>16/03/2000 00:00:00</td>\n",
       "      <td>23/01/2020 15:00:00</td>\n",
       "    </tr>\n",
       "    <tr>\n",
       "      <th>27495</th>\n",
       "      <td>143269</td>\n",
       "      <td>Medicina e Extensivo 2019</td>\n",
       "      <td>MONTHLY</td>\n",
       "      <td>Faixa Branca Grau I</td>\n",
       "      <td>0</td>\n",
       "      <td>0</td>\n",
       "      <td>0</td>\n",
       "      <td>5/12/2019 17:28:52</td>\n",
       "      <td>0</td>\n",
       "      <td>COM TUTOR</td>\n",
       "      <td>0</td>\n",
       "      <td>Exclusivo</td>\n",
       "      <td>NaN</td>\n",
       "      <td>10/08/2001 00:00:00</td>\n",
       "      <td>23/01/2020 15:00:00</td>\n",
       "    </tr>\n",
       "    <tr>\n",
       "      <th>27496</th>\n",
       "      <td>143321</td>\n",
       "      <td>ITA e IME 2019</td>\n",
       "      <td>MONTHLY</td>\n",
       "      <td>Faixa Branca Grau I</td>\n",
       "      <td>0</td>\n",
       "      <td>35</td>\n",
       "      <td>27</td>\n",
       "      <td>9/12/2019 12:08:18</td>\n",
       "      <td>0</td>\n",
       "      <td>COM TUTOR</td>\n",
       "      <td>15</td>\n",
       "      <td>Exclusivo</td>\n",
       "      <td>NaN</td>\n",
       "      <td>30/09/2001 00:00:00</td>\n",
       "      <td>23/01/2020 15:00:00</td>\n",
       "    </tr>\n",
       "    <tr>\n",
       "      <th>27497</th>\n",
       "      <td>143479</td>\n",
       "      <td>ITA e IME 2019</td>\n",
       "      <td>MONTHLY</td>\n",
       "      <td>Faixa Branca Grau I</td>\n",
       "      <td>0</td>\n",
       "      <td>14</td>\n",
       "      <td>7</td>\n",
       "      <td>20/12/2019 20:11:59</td>\n",
       "      <td>0</td>\n",
       "      <td>COM TUTOR</td>\n",
       "      <td>47</td>\n",
       "      <td>Exclusivo</td>\n",
       "      <td>NaN</td>\n",
       "      <td>30/12/1988 00:00:00</td>\n",
       "      <td>31/01/2021 00:00:00</td>\n",
       "    </tr>\n",
       "  </tbody>\n",
       "</table>\n",
       "<p>27498 rows × 15 columns</p>\n",
       "</div>"
      ],
      "text/plain": [
       "       ID Aluno                      Turma    Plano                  Faixa  \\\n",
       "0         95738              Medicina 2020  MONTHLY  Faixa Branca Grau III   \n",
       "1        112701              Medicina 2020  MONTHLY   Faixa Preta Grau III   \n",
       "2        112702              Medicina 2020  MONTHLY    Faixa Verde Grau II   \n",
       "3        120504             ITA e IME 2020     FULL    Faixa Branca Grau I   \n",
       "4        120759             ITA e IME 2020     FULL     Faixa Verde Grau I   \n",
       "...         ...                        ...      ...                    ...   \n",
       "27493    143264             ITA e IME 2019  MONTHLY    Faixa Branca Grau I   \n",
       "27494    143265  Medicina e Extensivo 2019  MONTHLY    Faixa Branca Grau I   \n",
       "27495    143269  Medicina e Extensivo 2019  MONTHLY    Faixa Branca Grau I   \n",
       "27496    143321             ITA e IME 2019  MONTHLY    Faixa Branca Grau I   \n",
       "27497    143479             ITA e IME 2019  MONTHLY    Faixa Branca Grau I   \n",
       "\n",
       "       Redações  Vídeos  Questões           Data Matr.  Simulados      Tutor  \\\n",
       "0             0       1         0  04/04/2017 05:40:09          1  COM TUTOR   \n",
       "1             0       9       124  07/11/2017 14:06:36          1  COM TUTOR   \n",
       "2             2      74      1359  07/11/2017 15:43:33          4  COM TUTOR   \n",
       "3             0      24        64  27/09/2019 00:00:00          4  COM TUTOR   \n",
       "4            17    1166      1598  18/08/2019 00:00:00          2  COM TUTOR   \n",
       "...         ...     ...       ...                  ...        ...        ...   \n",
       "27493         0       0         0   5/12/2019 12:48:53          0  COM TUTOR   \n",
       "27494         3       0         0   5/12/2019 13:32:17          0  COM TUTOR   \n",
       "27495         0       0         0   5/12/2019 17:28:52          0  COM TUTOR   \n",
       "27496         0      35        27   9/12/2019 12:08:18          0  COM TUTOR   \n",
       "27497         0      14         7  20/12/2019 20:11:59          0  COM TUTOR   \n",
       "\n",
       "       Logins     Perfil         Data Cancel.           Data Nasc.  \\\n",
       "0           1  Exclusivo                  NaN                  NaN   \n",
       "1           4  Exclusivo                  NaN  05/02/1984 00:00:00   \n",
       "2          86  Exclusivo                  NaN  19/07/1980 00:00:00   \n",
       "3           5  Exclusivo  20/02/2020 02:59:59  07/04/2002 00:00:00   \n",
       "4         237  Exclusivo                  NaN  05/12/2001 00:00:00   \n",
       "...       ...        ...                  ...                  ...   \n",
       "27493       0  Exclusivo                  NaN  20/12/2000 00:00:00   \n",
       "27494       6  Exclusivo                  NaN  16/03/2000 00:00:00   \n",
       "27495       0  Exclusivo                  NaN  10/08/2001 00:00:00   \n",
       "27496      15  Exclusivo                  NaN  30/09/2001 00:00:00   \n",
       "27497      47  Exclusivo                  NaN  30/12/1988 00:00:00   \n",
       "\n",
       "                Acesso até  \n",
       "0      18/03/2020 02:59:59  \n",
       "1      31/12/2031 02:59:59  \n",
       "2      30/12/2029 15:00:00  \n",
       "3      24/12/2020 15:00:00  \n",
       "4      22/02/2021 02:59:59  \n",
       "...                    ...  \n",
       "27493  23/12/2019 15:00:00  \n",
       "27494  23/01/2020 15:00:00  \n",
       "27495  23/01/2020 15:00:00  \n",
       "27496  23/01/2020 15:00:00  \n",
       "27497  31/01/2021 00:00:00  \n",
       "\n",
       "[27498 rows x 15 columns]"
      ]
     },
     "execution_count": 2,
     "metadata": {},
     "output_type": "execute_result"
    }
   ],
   "source": [
    "raw_data = pd.read_csv('../raw_data/raw_data.csv')\n",
    "raw_data"
   ]
  },
  {
   "cell_type": "code",
   "execution_count": 3,
   "id": "a92e1017",
   "metadata": {
    "hidden": true
   },
   "outputs": [],
   "source": [
    "df = raw_data.copy()"
   ]
  },
  {
   "cell_type": "code",
   "execution_count": 4,
   "id": "5434610d",
   "metadata": {
    "hidden": true
   },
   "outputs": [
    {
     "name": "stdout",
     "output_type": "stream",
     "text": [
      "<class 'pandas.core.frame.DataFrame'>\n",
      "RangeIndex: 27498 entries, 0 to 27497\n",
      "Data columns (total 15 columns):\n",
      " #   Column        Non-Null Count  Dtype \n",
      "---  ------        --------------  ----- \n",
      " 0   ID Aluno      27498 non-null  int64 \n",
      " 1   Turma         27498 non-null  object\n",
      " 2   Plano         27498 non-null  object\n",
      " 3   Faixa         27498 non-null  object\n",
      " 4   Redações      27498 non-null  int64 \n",
      " 5   Vídeos        27498 non-null  int64 \n",
      " 6   Questões      27498 non-null  int64 \n",
      " 7   Data Matr.    27058 non-null  object\n",
      " 8   Simulados     27498 non-null  int64 \n",
      " 9   Tutor         27498 non-null  object\n",
      " 10  Logins        27498 non-null  int64 \n",
      " 11  Perfil        27498 non-null  object\n",
      " 12  Data Cancel.  4001 non-null   object\n",
      " 13  Data Nasc.    11315 non-null  object\n",
      " 14  Acesso até    27498 non-null  object\n",
      "dtypes: int64(6), object(9)\n",
      "memory usage: 3.1+ MB\n"
     ]
    }
   ],
   "source": [
    "df.info()"
   ]
  },
  {
   "cell_type": "markdown",
   "id": "f95f1d2b",
   "metadata": {
    "heading_collapsed": true
   },
   "source": [
    "# Student Profile"
   ]
  },
  {
   "cell_type": "code",
   "execution_count": 5,
   "id": "9174b98d",
   "metadata": {
    "hidden": true
   },
   "outputs": [
    {
     "data": {
      "text/plain": [
       "58.85155284020656"
      ]
     },
     "execution_count": 5,
     "metadata": {},
     "output_type": "execute_result"
    }
   ],
   "source": [
    "#Checking birth dates >>>> too much null values >>>> not reliable >>>> 58.85155284020656\n",
    "df['Data Nasc.'].isnull().sum()/df.shape[0]*100"
   ]
  },
  {
   "cell_type": "code",
   "execution_count": 6,
   "id": "3dc82362",
   "metadata": {
    "hidden": true
   },
   "outputs": [
    {
     "data": {
      "text/plain": [
       "-14.55014910175285"
      ]
     },
     "execution_count": 6,
     "metadata": {},
     "output_type": "execute_result"
    }
   ],
   "source": [
    "#Checking churn >>>> less than 15% >>>> -14.55014910175285\n",
    "(df['Data Cancel.'].isnull().sum()/df.shape[0]-1)*100"
   ]
  },
  {
   "cell_type": "code",
   "execution_count": 7,
   "id": "14ae88b9",
   "metadata": {
    "hidden": true
   },
   "outputs": [
    {
     "data": {
      "text/plain": [
       "Medicina e Extensivo 2019             32.675104\n",
       "ITA e IME 2019                        18.466798\n",
       "Semiextensivo 18                      14.306495\n",
       "Extensivo Medicina 2021               10.269838\n",
       "Medicina 2020                          8.087861\n",
       "ITA e IME 2020                         5.291294\n",
       "Extensivo ITA/IME 2021                 4.156666\n",
       "Intensivo 2018                         1.898320\n",
       "Extensivo 18                           1.243727\n",
       "Semiextensivo Medicina 2019            1.196451\n",
       "Intensivo 2019                         1.130991\n",
       "SEMIEXTENSIVO - TURMA MED 2020         0.956433\n",
       "Intensivo ITA-IME 2021                 0.181831\n",
       "SEMIEXTENSIVO - TURMA ITA/IME 2020     0.138192\n",
       "Name: Turma, dtype: float64"
      ]
     },
     "execution_count": 7,
     "metadata": {},
     "output_type": "execute_result"
    }
   ],
   "source": [
    "#Checking the % of students by class/interest\n",
    "df['Turma'].value_counts()/df.shape[0]*100"
   ]
  },
  {
   "cell_type": "code",
   "execution_count": 8,
   "id": "a88d9762",
   "metadata": {
    "hidden": true
   },
   "outputs": [
    {
     "data": {
      "text/plain": [
       "FULL       92.584915\n",
       "MONTHLY     7.415085\n",
       "Name: Plano, dtype: float64"
      ]
     },
     "execution_count": 8,
     "metadata": {},
     "output_type": "execute_result"
    }
   ],
   "source": [
    "#Checking the % of students by payment plan\n",
    "df['Plano'].value_counts()/df.shape[0]*100"
   ]
  },
  {
   "cell_type": "code",
   "execution_count": 9,
   "id": "c7735c82",
   "metadata": {
    "hidden": true
   },
   "outputs": [
    {
     "data": {
      "text/plain": [
       "Faixa Branca Grau I      78.907557\n",
       "Faixa Branca Grau IV      5.338570\n",
       "Faixa Verde Grau I        3.178413\n",
       "Faixa Branca Grau V       3.174776\n",
       "Faixa Verde Grau II       2.905666\n",
       "Faixa Verde Grau III      1.294640\n",
       "Faixa Branca Grau III     1.291003\n",
       "Faixa Azul Grau III       1.185541\n",
       "Faixa Azul Grau II        0.829151\n",
       "Faixa Preta Grau III      0.625500\n",
       "Faixa Lilás Grau I        0.290930\n",
       "Faixa Lilás Grau III      0.290930\n",
       "Faixa Azul Grau I         0.207288\n",
       "Faixa Branca Grau II      0.192741\n",
       "Faixa Preta Grau I        0.141828\n",
       "Faixa Preta Grau II       0.080006\n",
       "Faixa Lilás Grau II       0.065459\n",
       "Name: Faixa, dtype: float64"
      ]
     },
     "execution_count": 9,
     "metadata": {},
     "output_type": "execute_result"
    }
   ],
   "source": [
    "#Checking the % of students by Faixa\n",
    "df['Faixa'].value_counts()/df.shape[0]*100"
   ]
  },
  {
   "cell_type": "code",
   "execution_count": 10,
   "id": "4806ff0f",
   "metadata": {
    "hidden": true
   },
   "outputs": [
    {
     "data": {
      "text/plain": [
       "SEM TUTOR    74.187214\n",
       "COM TUTOR    25.812786\n",
       "Name: Tutor, dtype: float64"
      ]
     },
     "execution_count": 10,
     "metadata": {},
     "output_type": "execute_result"
    }
   ],
   "source": [
    "#Checking the % of students by Tutor\n",
    "df['Tutor'].value_counts()/df.shape[0]*100"
   ]
  },
  {
   "cell_type": "code",
   "execution_count": 11,
   "id": "55ec08d2",
   "metadata": {
    "hidden": true
   },
   "outputs": [
    {
     "data": {
      "text/plain": [
       "Exclusivo    90.152011\n",
       "Parcial       8.127864\n",
       "Consulta      1.720125\n",
       "Name: Perfil, dtype: float64"
      ]
     },
     "execution_count": 11,
     "metadata": {},
     "output_type": "execute_result"
    }
   ],
   "source": [
    "#Checking the % of students by Profile\n",
    "df['Perfil'].value_counts()/df.shape[0]*100"
   ]
  },
  {
   "cell_type": "markdown",
   "id": "c7e74447",
   "metadata": {
    "hidden": true
   },
   "source": [
    "**What's the general profile of the students?**"
   ]
  },
  {
   "cell_type": "markdown",
   "id": "707da911",
   "metadata": {
    "hidden": true
   },
   "source": [
    "More than 50% of the students are enrolled on prep courses for **Medicina e Extensivo** 2019 and **ITA e IME 2019**."
   ]
  },
  {
   "cell_type": "markdown",
   "id": "55a00260",
   "metadata": {
    "hidden": true
   },
   "source": [
    "More than 90% of the students have chosen the **Full** plan, which means they are pretty sure of their choices."
   ]
  },
  {
   "cell_type": "markdown",
   "id": "c3ea1a3d",
   "metadata": {
    "hidden": true
   },
   "source": [
    "Almost 80% of the students are classified as **Faixa Branca Grau I**, which probably means an entry-level."
   ]
  },
  {
   "cell_type": "markdown",
   "id": "2cd6eecd",
   "metadata": {
    "hidden": true
   },
   "source": [
    "Almost 75% of the students have chosen a path **without a Tutor**."
   ]
  },
  {
   "cell_type": "markdown",
   "id": "54722825",
   "metadata": {
    "hidden": true
   },
   "source": [
    "More than 90% of the students have chosen the **Exclusive** plan. Probably it's related to the level of access they want to have."
   ]
  },
  {
   "cell_type": "markdown",
   "id": "51e0ddaa",
   "metadata": {
    "hidden": true
   },
   "source": [
    "Since almost 60% of the birth dates are **null**, it doesn't seems a good feature to be used as a profile maker. "
   ]
  },
  {
   "cell_type": "markdown",
   "id": "ca971997",
   "metadata": {
    "hidden": true
   },
   "source": [
    "**IN SUMMARY**\n",
    "\n",
    "We could assume the standard student has a focus on highly competitive courses, and they are pretty sure about it!"
   ]
  },
  {
   "cell_type": "markdown",
   "id": "4e45e9ff",
   "metadata": {
    "heading_collapsed": true
   },
   "source": [
    "# Student Engagement"
   ]
  },
  {
   "cell_type": "code",
   "execution_count": 12,
   "id": "f04f5595",
   "metadata": {
    "hidden": true
   },
   "outputs": [
    {
     "data": {
      "text/plain": [
       "78.87482726016437"
      ]
     },
     "execution_count": 12,
     "metadata": {},
     "output_type": "execute_result"
    }
   ],
   "source": [
    "df['Simulados'].value_counts()[0]/df.shape[0]*100"
   ]
  },
  {
   "cell_type": "code",
   "execution_count": 13,
   "id": "149c0733",
   "metadata": {
    "hidden": true
   },
   "outputs": [
    {
     "data": {
      "text/plain": [
       "79.8094406865954"
      ]
     },
     "execution_count": 13,
     "metadata": {},
     "output_type": "execute_result"
    }
   ],
   "source": [
    "df['Redações'].value_counts()[0]/df.shape[0]*100"
   ]
  },
  {
   "cell_type": "code",
   "execution_count": 14,
   "id": "a652ef88",
   "metadata": {
    "hidden": true
   },
   "outputs": [
    {
     "data": {
      "text/plain": [
       "60.27347443450432"
      ]
     },
     "execution_count": 14,
     "metadata": {},
     "output_type": "execute_result"
    }
   ],
   "source": [
    "df['Vídeos'].value_counts()[0]/df.shape[0]*100"
   ]
  },
  {
   "cell_type": "code",
   "execution_count": 15,
   "id": "0e3969ad",
   "metadata": {
    "hidden": true
   },
   "outputs": [
    {
     "data": {
      "text/plain": [
       "55.63677358353335"
      ]
     },
     "execution_count": 15,
     "metadata": {},
     "output_type": "execute_result"
    }
   ],
   "source": [
    "df['Questões'].value_counts()[0]/df.shape[0]*100"
   ]
  },
  {
   "cell_type": "code",
   "execution_count": 16,
   "id": "dabb3e2d",
   "metadata": {
    "hidden": true
   },
   "outputs": [
    {
     "data": {
      "text/plain": [
       "67.41217543094044"
      ]
     },
     "execution_count": 16,
     "metadata": {},
     "output_type": "execute_result"
    }
   ],
   "source": [
    "df['Logins'].value_counts()[0]/df.shape[0]*100"
   ]
  },
  {
   "cell_type": "markdown",
   "id": "2e1e651e",
   "metadata": {
    "hidden": true
   },
   "source": [
    "**Considering the school methods, are the students engaged? How can we define engagement?**"
   ]
  },
  {
   "cell_type": "markdown",
   "id": "1b115a8e",
   "metadata": {
    "hidden": true
   },
   "source": [
    "Apparently **NOT**! If we consider engagement as the rate of activities the students perform after classes, we can clearly see there's not much activities being done outside the class!"
   ]
  },
  {
   "cell_type": "markdown",
   "id": "c4673e04",
   "metadata": {},
   "source": [
    "# Student Churn"
   ]
  },
  {
   "cell_type": "code",
   "execution_count": 17,
   "id": "c4b952e4",
   "metadata": {},
   "outputs": [],
   "source": [
    "df5 = df.copy()"
   ]
  },
  {
   "cell_type": "code",
   "execution_count": 18,
   "id": "467a5f27",
   "metadata": {},
   "outputs": [],
   "source": [
    "df5 = df5.dropna(subset=['Data Cancel.'])\n",
    "df5.reset_index(drop=True, inplace=True)"
   ]
  },
  {
   "cell_type": "code",
   "execution_count": 19,
   "id": "51caba12",
   "metadata": {},
   "outputs": [],
   "source": [
    "df5['Data Cancel.'] = pd.to_datetime(df5['Data Cancel.'])\n",
    "df5['Data Matr.'] = pd.to_datetime(df5['Data Matr.'])\n",
    "df5['Delta'] = df5['Data Cancel.'] - df5['Data Matr.']\n",
    "\n",
    "#df5['Data Cancel.'] = df5['Data Cancel.'].astype('datetime64[ns]')\n",
    "#df5['Data Matr.'] = df5['Data Matr.'].astype('datetime64[ns]')"
   ]
  },
  {
   "cell_type": "code",
   "execution_count": 20,
   "id": "2fae4d07",
   "metadata": {},
   "outputs": [],
   "source": [
    "df5['Teste'] = ''"
   ]
  },
  {
   "cell_type": "code",
   "execution_count": 21,
   "id": "9fa657c7",
   "metadata": {},
   "outputs": [
    {
     "name": "stderr",
     "output_type": "stream",
     "text": [
      "/tmp/ipykernel_2248/184559641.py:2: SettingWithCopyWarning: \n",
      "A value is trying to be set on a copy of a slice from a DataFrame\n",
      "\n",
      "See the caveats in the documentation: https://pandas.pydata.org/pandas-docs/stable/user_guide/indexing.html#returning-a-view-versus-a-copy\n",
      "  df5['Teste'][i] = df5['Delta'][i].days\n"
     ]
    }
   ],
   "source": [
    "for i in range(0, df5.shape[0]):\n",
    "    df5['Teste'][i] = df5['Delta'][i].days\n",
    "\n",
    "df5.drop(columns='Delta', inplace=True)"
   ]
  },
  {
   "cell_type": "code",
   "execution_count": 34,
   "id": "afb9281a",
   "metadata": {
    "collapsed": true
   },
   "outputs": [
    {
     "data": {
      "text/html": [
       "<div>\n",
       "<style scoped>\n",
       "    .dataframe tbody tr th:only-of-type {\n",
       "        vertical-align: middle;\n",
       "    }\n",
       "\n",
       "    .dataframe tbody tr th {\n",
       "        vertical-align: top;\n",
       "    }\n",
       "\n",
       "    .dataframe thead th {\n",
       "        text-align: right;\n",
       "    }\n",
       "</style>\n",
       "<table border=\"1\" class=\"dataframe\">\n",
       "  <thead>\n",
       "    <tr style=\"text-align: right;\">\n",
       "      <th></th>\n",
       "      <th>ID Aluno</th>\n",
       "      <th>Turma</th>\n",
       "      <th>Plano</th>\n",
       "      <th>Faixa</th>\n",
       "      <th>Redações</th>\n",
       "      <th>Vídeos</th>\n",
       "      <th>Questões</th>\n",
       "      <th>Data Matr.</th>\n",
       "      <th>Simulados</th>\n",
       "      <th>Tutor</th>\n",
       "      <th>Logins</th>\n",
       "      <th>Perfil</th>\n",
       "      <th>Data Cancel.</th>\n",
       "      <th>Data Nasc.</th>\n",
       "      <th>Acesso até</th>\n",
       "      <th>Teste</th>\n",
       "    </tr>\n",
       "  </thead>\n",
       "  <tbody>\n",
       "    <tr>\n",
       "      <th>12</th>\n",
       "      <td>141835</td>\n",
       "      <td>ITA e IME 2020</td>\n",
       "      <td>FULL</td>\n",
       "      <td>Faixa Branca Grau I</td>\n",
       "      <td>0</td>\n",
       "      <td>81</td>\n",
       "      <td>97</td>\n",
       "      <td>2019-12-09 22:09:48</td>\n",
       "      <td>0</td>\n",
       "      <td>COM TUTOR</td>\n",
       "      <td>0</td>\n",
       "      <td>Parcial</td>\n",
       "      <td>2019-10-22 00:00:00</td>\n",
       "      <td>05/04/2001 00:00:00</td>\n",
       "      <td>25/12/2020 00:00:00</td>\n",
       "      <td>-49</td>\n",
       "    </tr>\n",
       "    <tr>\n",
       "      <th>23</th>\n",
       "      <td>141930</td>\n",
       "      <td>ITA e IME 2020</td>\n",
       "      <td>MONTHLY</td>\n",
       "      <td>Faixa Branca Grau IV</td>\n",
       "      <td>0</td>\n",
       "      <td>40</td>\n",
       "      <td>52</td>\n",
       "      <td>2019-09-28 07:16:30</td>\n",
       "      <td>0</td>\n",
       "      <td>COM TUTOR</td>\n",
       "      <td>0</td>\n",
       "      <td>Exclusivo</td>\n",
       "      <td>2019-04-11 20:52:28</td>\n",
       "      <td>12/04/2003 00:00:00</td>\n",
       "      <td>28/10/2019 07:16:28</td>\n",
       "      <td>-170</td>\n",
       "    </tr>\n",
       "    <tr>\n",
       "      <th>531</th>\n",
       "      <td>143587</td>\n",
       "      <td>ITA e IME 2020</td>\n",
       "      <td>MONTHLY</td>\n",
       "      <td>Faixa Branca Grau I</td>\n",
       "      <td>0</td>\n",
       "      <td>0</td>\n",
       "      <td>0</td>\n",
       "      <td>2020-03-01 19:25:02</td>\n",
       "      <td>0</td>\n",
       "      <td>COM TUTOR</td>\n",
       "      <td>0</td>\n",
       "      <td>Exclusivo</td>\n",
       "      <td>2020-01-07 15:00:00</td>\n",
       "      <td>09/11/1999 00:00:00</td>\n",
       "      <td>25/12/2020 00:00:00</td>\n",
       "      <td>-55</td>\n",
       "    </tr>\n",
       "    <tr>\n",
       "      <th>535</th>\n",
       "      <td>143597</td>\n",
       "      <td>ITA e IME 2020</td>\n",
       "      <td>MONTHLY</td>\n",
       "      <td>Faixa Azul Grau III</td>\n",
       "      <td>8</td>\n",
       "      <td>365</td>\n",
       "      <td>2867</td>\n",
       "      <td>2020-04-01 10:55:28</td>\n",
       "      <td>13</td>\n",
       "      <td>COM TUTOR</td>\n",
       "      <td>214</td>\n",
       "      <td>Parcial</td>\n",
       "      <td>2020-02-12 22:41:19</td>\n",
       "      <td>08/05/1999 00:00:00</td>\n",
       "      <td>25/12/2020 02:59:59</td>\n",
       "      <td>-49</td>\n",
       "    </tr>\n",
       "    <tr>\n",
       "      <th>540</th>\n",
       "      <td>143624</td>\n",
       "      <td>Medicina 2020</td>\n",
       "      <td>FULL</td>\n",
       "      <td>Faixa Branca Grau V</td>\n",
       "      <td>0</td>\n",
       "      <td>35</td>\n",
       "      <td>362</td>\n",
       "      <td>2020-05-01 23:06:43</td>\n",
       "      <td>0</td>\n",
       "      <td>COM TUTOR</td>\n",
       "      <td>18</td>\n",
       "      <td>Exclusivo</td>\n",
       "      <td>2020-02-19 02:59:59</td>\n",
       "      <td>10/11/1988 00:00:00</td>\n",
       "      <td>31/01/2021 00:00:00</td>\n",
       "      <td>-73</td>\n",
       "    </tr>\n",
       "    <tr>\n",
       "      <th>...</th>\n",
       "      <td>...</td>\n",
       "      <td>...</td>\n",
       "      <td>...</td>\n",
       "      <td>...</td>\n",
       "      <td>...</td>\n",
       "      <td>...</td>\n",
       "      <td>...</td>\n",
       "      <td>...</td>\n",
       "      <td>...</td>\n",
       "      <td>...</td>\n",
       "      <td>...</td>\n",
       "      <td>...</td>\n",
       "      <td>...</td>\n",
       "      <td>...</td>\n",
       "      <td>...</td>\n",
       "      <td>...</td>\n",
       "    </tr>\n",
       "    <tr>\n",
       "      <th>3990</th>\n",
       "      <td>142515</td>\n",
       "      <td>Medicina e Extensivo 2019</td>\n",
       "      <td>FULL</td>\n",
       "      <td>Faixa Branca Grau I</td>\n",
       "      <td>1</td>\n",
       "      <td>11</td>\n",
       "      <td>0</td>\n",
       "      <td>2019-10-30 13:42:32</td>\n",
       "      <td>0</td>\n",
       "      <td>COM TUTOR</td>\n",
       "      <td>1</td>\n",
       "      <td>Parcial</td>\n",
       "      <td>2019-01-11 14:36:31</td>\n",
       "      <td>20/02/2000 00:00:00</td>\n",
       "      <td>30/10/2019 13:42:32</td>\n",
       "      <td>-292</td>\n",
       "    </tr>\n",
       "    <tr>\n",
       "      <th>3991</th>\n",
       "      <td>142523</td>\n",
       "      <td>Medicina e Extensivo 2019</td>\n",
       "      <td>FULL</td>\n",
       "      <td>Faixa Branca Grau I</td>\n",
       "      <td>0</td>\n",
       "      <td>6</td>\n",
       "      <td>4</td>\n",
       "      <td>2019-10-30 17:54:43</td>\n",
       "      <td>0</td>\n",
       "      <td>COM TUTOR</td>\n",
       "      <td>5</td>\n",
       "      <td>Exclusivo</td>\n",
       "      <td>2019-05-11 07:36:22</td>\n",
       "      <td>25/07/2001 00:00:00</td>\n",
       "      <td>30/10/2019 17:54:43</td>\n",
       "      <td>-173</td>\n",
       "    </tr>\n",
       "    <tr>\n",
       "      <th>3992</th>\n",
       "      <td>142525</td>\n",
       "      <td>Medicina e Extensivo 2019</td>\n",
       "      <td>FULL</td>\n",
       "      <td>Faixa Branca Grau I</td>\n",
       "      <td>0</td>\n",
       "      <td>1</td>\n",
       "      <td>0</td>\n",
       "      <td>2019-10-30 18:55:38</td>\n",
       "      <td>0</td>\n",
       "      <td>COM TUTOR</td>\n",
       "      <td>2</td>\n",
       "      <td>Exclusivo</td>\n",
       "      <td>2019-01-11 12:26:58</td>\n",
       "      <td>05/03/1992 00:00:00</td>\n",
       "      <td>30/10/2019 18:55:38</td>\n",
       "      <td>-293</td>\n",
       "    </tr>\n",
       "    <tr>\n",
       "      <th>3993</th>\n",
       "      <td>142540</td>\n",
       "      <td>ITA e IME 2019</td>\n",
       "      <td>FULL</td>\n",
       "      <td>Faixa Branca Grau I</td>\n",
       "      <td>0</td>\n",
       "      <td>5</td>\n",
       "      <td>4</td>\n",
       "      <td>2019-10-31 20:01:08</td>\n",
       "      <td>1</td>\n",
       "      <td>COM TUTOR</td>\n",
       "      <td>2</td>\n",
       "      <td>Exclusivo</td>\n",
       "      <td>2019-01-11 11:10:38</td>\n",
       "      <td>01/04/2002 00:00:00</td>\n",
       "      <td>31/10/2019 20:01:08</td>\n",
       "      <td>-294</td>\n",
       "    </tr>\n",
       "    <tr>\n",
       "      <th>3998</th>\n",
       "      <td>142808</td>\n",
       "      <td>ITA e IME 2019</td>\n",
       "      <td>MONTHLY</td>\n",
       "      <td>Faixa Branca Grau I</td>\n",
       "      <td>0</td>\n",
       "      <td>0</td>\n",
       "      <td>0</td>\n",
       "      <td>2019-05-11 14:54:22</td>\n",
       "      <td>0</td>\n",
       "      <td>COM TUTOR</td>\n",
       "      <td>0</td>\n",
       "      <td>Exclusivo</td>\n",
       "      <td>2019-01-12 00:00:00</td>\n",
       "      <td>20/07/1999 00:00:00</td>\n",
       "      <td>01/01/2021 00:00:00</td>\n",
       "      <td>-120</td>\n",
       "    </tr>\n",
       "  </tbody>\n",
       "</table>\n",
       "<p>680 rows × 16 columns</p>\n",
       "</div>"
      ],
      "text/plain": [
       "      ID Aluno                      Turma    Plano                 Faixa  \\\n",
       "12      141835             ITA e IME 2020     FULL   Faixa Branca Grau I   \n",
       "23      141930             ITA e IME 2020  MONTHLY  Faixa Branca Grau IV   \n",
       "531     143587             ITA e IME 2020  MONTHLY   Faixa Branca Grau I   \n",
       "535     143597             ITA e IME 2020  MONTHLY   Faixa Azul Grau III   \n",
       "540     143624              Medicina 2020     FULL   Faixa Branca Grau V   \n",
       "...        ...                        ...      ...                   ...   \n",
       "3990    142515  Medicina e Extensivo 2019     FULL   Faixa Branca Grau I   \n",
       "3991    142523  Medicina e Extensivo 2019     FULL   Faixa Branca Grau I   \n",
       "3992    142525  Medicina e Extensivo 2019     FULL   Faixa Branca Grau I   \n",
       "3993    142540             ITA e IME 2019     FULL   Faixa Branca Grau I   \n",
       "3998    142808             ITA e IME 2019  MONTHLY   Faixa Branca Grau I   \n",
       "\n",
       "      Redações  Vídeos  Questões          Data Matr.  Simulados      Tutor  \\\n",
       "12           0      81        97 2019-12-09 22:09:48          0  COM TUTOR   \n",
       "23           0      40        52 2019-09-28 07:16:30          0  COM TUTOR   \n",
       "531          0       0         0 2020-03-01 19:25:02          0  COM TUTOR   \n",
       "535          8     365      2867 2020-04-01 10:55:28         13  COM TUTOR   \n",
       "540          0      35       362 2020-05-01 23:06:43          0  COM TUTOR   \n",
       "...        ...     ...       ...                 ...        ...        ...   \n",
       "3990         1      11         0 2019-10-30 13:42:32          0  COM TUTOR   \n",
       "3991         0       6         4 2019-10-30 17:54:43          0  COM TUTOR   \n",
       "3992         0       1         0 2019-10-30 18:55:38          0  COM TUTOR   \n",
       "3993         0       5         4 2019-10-31 20:01:08          1  COM TUTOR   \n",
       "3998         0       0         0 2019-05-11 14:54:22          0  COM TUTOR   \n",
       "\n",
       "      Logins     Perfil        Data Cancel.           Data Nasc.  \\\n",
       "12         0    Parcial 2019-10-22 00:00:00  05/04/2001 00:00:00   \n",
       "23         0  Exclusivo 2019-04-11 20:52:28  12/04/2003 00:00:00   \n",
       "531        0  Exclusivo 2020-01-07 15:00:00  09/11/1999 00:00:00   \n",
       "535      214    Parcial 2020-02-12 22:41:19  08/05/1999 00:00:00   \n",
       "540       18  Exclusivo 2020-02-19 02:59:59  10/11/1988 00:00:00   \n",
       "...      ...        ...                 ...                  ...   \n",
       "3990       1    Parcial 2019-01-11 14:36:31  20/02/2000 00:00:00   \n",
       "3991       5  Exclusivo 2019-05-11 07:36:22  25/07/2001 00:00:00   \n",
       "3992       2  Exclusivo 2019-01-11 12:26:58  05/03/1992 00:00:00   \n",
       "3993       2  Exclusivo 2019-01-11 11:10:38  01/04/2002 00:00:00   \n",
       "3998       0  Exclusivo 2019-01-12 00:00:00  20/07/1999 00:00:00   \n",
       "\n",
       "               Acesso até Teste  \n",
       "12    25/12/2020 00:00:00   -49  \n",
       "23    28/10/2019 07:16:28  -170  \n",
       "531   25/12/2020 00:00:00   -55  \n",
       "535   25/12/2020 02:59:59   -49  \n",
       "540   31/01/2021 00:00:00   -73  \n",
       "...                   ...   ...  \n",
       "3990  30/10/2019 13:42:32  -292  \n",
       "3991  30/10/2019 17:54:43  -173  \n",
       "3992  30/10/2019 18:55:38  -293  \n",
       "3993  31/10/2019 20:01:08  -294  \n",
       "3998  01/01/2021 00:00:00  -120  \n",
       "\n",
       "[680 rows x 16 columns]"
      ]
     },
     "execution_count": 34,
     "metadata": {},
     "output_type": "execute_result"
    }
   ],
   "source": [
    "#680 records were incorrectly filled, so they won't be eligible for evaluation\n",
    "df5[df5['Teste'] < 0]"
   ]
  },
  {
   "cell_type": "code",
   "execution_count": 68,
   "id": "ff623c29",
   "metadata": {},
   "outputs": [],
   "source": [
    "df5.drop(df5[(df5['Teste'] < 0)].index, inplace=True)"
   ]
  },
  {
   "cell_type": "code",
   "execution_count": 69,
   "id": "71e5cfe0",
   "metadata": {},
   "outputs": [],
   "source": [
    "df_over_30 = df5[df5['Teste'] > 30]"
   ]
  },
  {
   "cell_type": "code",
   "execution_count": 70,
   "id": "ca677ece",
   "metadata": {},
   "outputs": [
    {
     "data": {
      "text/html": [
       "<div>\n",
       "<style scoped>\n",
       "    .dataframe tbody tr th:only-of-type {\n",
       "        vertical-align: middle;\n",
       "    }\n",
       "\n",
       "    .dataframe tbody tr th {\n",
       "        vertical-align: top;\n",
       "    }\n",
       "\n",
       "    .dataframe thead th {\n",
       "        text-align: right;\n",
       "    }\n",
       "</style>\n",
       "<table border=\"1\" class=\"dataframe\">\n",
       "  <thead>\n",
       "    <tr style=\"text-align: right;\">\n",
       "      <th></th>\n",
       "      <th>ID Aluno</th>\n",
       "      <th>Redações</th>\n",
       "      <th>Vídeos</th>\n",
       "      <th>Questões</th>\n",
       "      <th>Simulados</th>\n",
       "      <th>Logins</th>\n",
       "    </tr>\n",
       "  </thead>\n",
       "  <tbody>\n",
       "    <tr>\n",
       "      <th>count</th>\n",
       "      <td>2748.000000</td>\n",
       "      <td>2748.000000</td>\n",
       "      <td>2748.000000</td>\n",
       "      <td>2748.000000</td>\n",
       "      <td>2748.000000</td>\n",
       "      <td>2748.000000</td>\n",
       "    </tr>\n",
       "    <tr>\n",
       "      <th>mean</th>\n",
       "      <td>142286.571325</td>\n",
       "      <td>5.747089</td>\n",
       "      <td>397.696507</td>\n",
       "      <td>1295.498180</td>\n",
       "      <td>3.300218</td>\n",
       "      <td>61.610626</td>\n",
       "    </tr>\n",
       "    <tr>\n",
       "      <th>std</th>\n",
       "      <td>15324.699869</td>\n",
       "      <td>12.039149</td>\n",
       "      <td>698.822126</td>\n",
       "      <td>2171.571166</td>\n",
       "      <td>6.415515</td>\n",
       "      <td>92.670228</td>\n",
       "    </tr>\n",
       "    <tr>\n",
       "      <th>min</th>\n",
       "      <td>18942.000000</td>\n",
       "      <td>0.000000</td>\n",
       "      <td>0.000000</td>\n",
       "      <td>0.000000</td>\n",
       "      <td>0.000000</td>\n",
       "      <td>0.000000</td>\n",
       "    </tr>\n",
       "    <tr>\n",
       "      <th>25%</th>\n",
       "      <td>129711.750000</td>\n",
       "      <td>0.000000</td>\n",
       "      <td>3.750000</td>\n",
       "      <td>44.000000</td>\n",
       "      <td>0.000000</td>\n",
       "      <td>0.000000</td>\n",
       "    </tr>\n",
       "    <tr>\n",
       "      <th>50%</th>\n",
       "      <td>142938.500000</td>\n",
       "      <td>0.000000</td>\n",
       "      <td>95.000000</td>\n",
       "      <td>291.000000</td>\n",
       "      <td>0.000000</td>\n",
       "      <td>13.000000</td>\n",
       "    </tr>\n",
       "    <tr>\n",
       "      <th>75%</th>\n",
       "      <td>149870.250000</td>\n",
       "      <td>5.000000</td>\n",
       "      <td>447.250000</td>\n",
       "      <td>1553.750000</td>\n",
       "      <td>3.000000</td>\n",
       "      <td>85.000000</td>\n",
       "    </tr>\n",
       "    <tr>\n",
       "      <th>max</th>\n",
       "      <td>172278.000000</td>\n",
       "      <td>111.000000</td>\n",
       "      <td>6324.000000</td>\n",
       "      <td>16004.000000</td>\n",
       "      <td>62.000000</td>\n",
       "      <td>611.000000</td>\n",
       "    </tr>\n",
       "  </tbody>\n",
       "</table>\n",
       "</div>"
      ],
      "text/plain": [
       "            ID Aluno     Redações       Vídeos      Questões    Simulados  \\\n",
       "count    2748.000000  2748.000000  2748.000000   2748.000000  2748.000000   \n",
       "mean   142286.571325     5.747089   397.696507   1295.498180     3.300218   \n",
       "std     15324.699869    12.039149   698.822126   2171.571166     6.415515   \n",
       "min     18942.000000     0.000000     0.000000      0.000000     0.000000   \n",
       "25%    129711.750000     0.000000     3.750000     44.000000     0.000000   \n",
       "50%    142938.500000     0.000000    95.000000    291.000000     0.000000   \n",
       "75%    149870.250000     5.000000   447.250000   1553.750000     3.000000   \n",
       "max    172278.000000   111.000000  6324.000000  16004.000000    62.000000   \n",
       "\n",
       "            Logins  \n",
       "count  2748.000000  \n",
       "mean     61.610626  \n",
       "std      92.670228  \n",
       "min       0.000000  \n",
       "25%       0.000000  \n",
       "50%      13.000000  \n",
       "75%      85.000000  \n",
       "max     611.000000  "
      ]
     },
     "execution_count": 70,
     "metadata": {},
     "output_type": "execute_result"
    }
   ],
   "source": [
    "df_over_30.describe()"
   ]
  },
  {
   "cell_type": "markdown",
   "id": "b5b75e8d",
   "metadata": {},
   "source": [
    "We can see that the great majority of students who left after 30 days really explored the school's features"
   ]
  },
  {
   "cell_type": "code",
   "execution_count": 71,
   "id": "0677f46d",
   "metadata": {},
   "outputs": [],
   "source": [
    "df_under_14 = df5[df5['Teste'] < 14]"
   ]
  },
  {
   "cell_type": "code",
   "execution_count": 73,
   "id": "c915edc3",
   "metadata": {},
   "outputs": [
    {
     "data": {
      "text/html": [
       "<div>\n",
       "<style scoped>\n",
       "    .dataframe tbody tr th:only-of-type {\n",
       "        vertical-align: middle;\n",
       "    }\n",
       "\n",
       "    .dataframe tbody tr th {\n",
       "        vertical-align: top;\n",
       "    }\n",
       "\n",
       "    .dataframe thead th {\n",
       "        text-align: right;\n",
       "    }\n",
       "</style>\n",
       "<table border=\"1\" class=\"dataframe\">\n",
       "  <thead>\n",
       "    <tr style=\"text-align: right;\">\n",
       "      <th></th>\n",
       "      <th>ID Aluno</th>\n",
       "      <th>Redações</th>\n",
       "      <th>Vídeos</th>\n",
       "      <th>Questões</th>\n",
       "      <th>Simulados</th>\n",
       "      <th>Logins</th>\n",
       "    </tr>\n",
       "  </thead>\n",
       "  <tbody>\n",
       "    <tr>\n",
       "      <th>count</th>\n",
       "      <td>253.000000</td>\n",
       "      <td>253.000000</td>\n",
       "      <td>253.000000</td>\n",
       "      <td>253.000000</td>\n",
       "      <td>253.000000</td>\n",
       "      <td>253.000000</td>\n",
       "    </tr>\n",
       "    <tr>\n",
       "      <th>mean</th>\n",
       "      <td>146558.407115</td>\n",
       "      <td>0.928854</td>\n",
       "      <td>67.256917</td>\n",
       "      <td>204.339921</td>\n",
       "      <td>0.537549</td>\n",
       "      <td>7.387352</td>\n",
       "    </tr>\n",
       "    <tr>\n",
       "      <th>std</th>\n",
       "      <td>14565.848301</td>\n",
       "      <td>3.783170</td>\n",
       "      <td>269.116900</td>\n",
       "      <td>703.927685</td>\n",
       "      <td>1.978950</td>\n",
       "      <td>30.506572</td>\n",
       "    </tr>\n",
       "    <tr>\n",
       "      <th>min</th>\n",
       "      <td>113492.000000</td>\n",
       "      <td>0.000000</td>\n",
       "      <td>0.000000</td>\n",
       "      <td>0.000000</td>\n",
       "      <td>0.000000</td>\n",
       "      <td>0.000000</td>\n",
       "    </tr>\n",
       "    <tr>\n",
       "      <th>25%</th>\n",
       "      <td>134987.000000</td>\n",
       "      <td>0.000000</td>\n",
       "      <td>0.000000</td>\n",
       "      <td>0.000000</td>\n",
       "      <td>0.000000</td>\n",
       "      <td>0.000000</td>\n",
       "    </tr>\n",
       "    <tr>\n",
       "      <th>50%</th>\n",
       "      <td>145846.000000</td>\n",
       "      <td>0.000000</td>\n",
       "      <td>4.000000</td>\n",
       "      <td>5.000000</td>\n",
       "      <td>0.000000</td>\n",
       "      <td>1.000000</td>\n",
       "    </tr>\n",
       "    <tr>\n",
       "      <th>75%</th>\n",
       "      <td>161950.000000</td>\n",
       "      <td>0.000000</td>\n",
       "      <td>33.000000</td>\n",
       "      <td>61.000000</td>\n",
       "      <td>0.000000</td>\n",
       "      <td>3.000000</td>\n",
       "    </tr>\n",
       "    <tr>\n",
       "      <th>max</th>\n",
       "      <td>171483.000000</td>\n",
       "      <td>33.000000</td>\n",
       "      <td>2576.000000</td>\n",
       "      <td>5052.000000</td>\n",
       "      <td>22.000000</td>\n",
       "      <td>260.000000</td>\n",
       "    </tr>\n",
       "  </tbody>\n",
       "</table>\n",
       "</div>"
      ],
      "text/plain": [
       "            ID Aluno    Redações       Vídeos     Questões   Simulados  \\\n",
       "count     253.000000  253.000000   253.000000   253.000000  253.000000   \n",
       "mean   146558.407115    0.928854    67.256917   204.339921    0.537549   \n",
       "std     14565.848301    3.783170   269.116900   703.927685    1.978950   \n",
       "min    113492.000000    0.000000     0.000000     0.000000    0.000000   \n",
       "25%    134987.000000    0.000000     0.000000     0.000000    0.000000   \n",
       "50%    145846.000000    0.000000     4.000000     5.000000    0.000000   \n",
       "75%    161950.000000    0.000000    33.000000    61.000000    0.000000   \n",
       "max    171483.000000   33.000000  2576.000000  5052.000000   22.000000   \n",
       "\n",
       "           Logins  \n",
       "count  253.000000  \n",
       "mean     7.387352  \n",
       "std     30.506572  \n",
       "min      0.000000  \n",
       "25%      0.000000  \n",
       "50%      1.000000  \n",
       "75%      3.000000  \n",
       "max    260.000000  "
      ]
     },
     "execution_count": 73,
     "metadata": {},
     "output_type": "execute_result"
    }
   ],
   "source": [
    "df_under_14.describe()"
   ]
  },
  {
   "cell_type": "code",
   "execution_count": null,
   "id": "50646920",
   "metadata": {},
   "outputs": [],
   "source": []
  },
  {
   "cell_type": "code",
   "execution_count": null,
   "id": "95b47ee8",
   "metadata": {},
   "outputs": [],
   "source": []
  },
  {
   "cell_type": "code",
   "execution_count": null,
   "id": "d15a09b2",
   "metadata": {},
   "outputs": [],
   "source": []
  },
  {
   "cell_type": "code",
   "execution_count": null,
   "id": "1b848573",
   "metadata": {},
   "outputs": [],
   "source": []
  },
  {
   "cell_type": "code",
   "execution_count": null,
   "id": "9fbd84d2",
   "metadata": {},
   "outputs": [],
   "source": []
  },
  {
   "cell_type": "code",
   "execution_count": null,
   "id": "556ce356",
   "metadata": {},
   "outputs": [],
   "source": []
  },
  {
   "cell_type": "code",
   "execution_count": 26,
   "id": "2ac9a867",
   "metadata": {},
   "outputs": [
    {
     "data": {
      "text/plain": [
       "2022"
      ]
     },
     "execution_count": 26,
     "metadata": {},
     "output_type": "execute_result"
    }
   ],
   "source": [
    "date.today().year"
   ]
  },
  {
   "cell_type": "code",
   "execution_count": null,
   "id": "986dbcdb",
   "metadata": {},
   "outputs": [],
   "source": []
  },
  {
   "cell_type": "code",
   "execution_count": null,
   "id": "f11a3d14",
   "metadata": {},
   "outputs": [],
   "source": []
  }
 ],
 "metadata": {
  "kernelspec": {
   "display_name": "Python 3 (ipykernel)",
   "language": "python",
   "name": "python3"
  },
  "language_info": {
   "codemirror_mode": {
    "name": "ipython",
    "version": 3
   },
   "file_extension": ".py",
   "mimetype": "text/x-python",
   "name": "python",
   "nbconvert_exporter": "python",
   "pygments_lexer": "ipython3",
   "version": "3.8.12"
  },
  "toc": {
   "base_numbering": 1,
   "nav_menu": {},
   "number_sections": true,
   "sideBar": true,
   "skip_h1_title": false,
   "title_cell": "Table of Contents",
   "title_sidebar": "Contents",
   "toc_cell": false,
   "toc_position": {},
   "toc_section_display": true,
   "toc_window_display": false
  }
 },
 "nbformat": 4,
 "nbformat_minor": 5
}
